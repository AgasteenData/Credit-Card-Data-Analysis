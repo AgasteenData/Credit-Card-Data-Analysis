{
 "cells": [
  {
   "cell_type": "markdown",
   "id": "dc59f1da-e93c-4c5a-81e3-ca89518151f1",
   "metadata": {},
   "source": [
    "# Credit Card Analysis"
   ]
  },
  {
   "cell_type": "code",
   "execution_count": 3,
   "id": "56172a04-822c-4f1e-9668-061cfa929769",
   "metadata": {},
   "outputs": [],
   "source": [
    "import numpy as np\n",
    "import pandas as pd\n",
    "import datetime as datetime\n",
    "import matplotlib.pyplot as plt\n",
    "%matplotlib  inline\n",
    "import seaborn as sns"
   ]
  },
  {
   "cell_type": "code",
   "execution_count": 4,
   "id": "9debddc0-489b-4572-8d97-695b4994d0d7",
   "metadata": {},
   "outputs": [],
   "source": [
    "input_path = 'C://projects//alabs_python//date//input//Case Study 2 - Credit Card Case Study//'\n",
    "file_name1 = 'Customer Acqusition.csv'\n",
    "file_name2 = 'Repayment.csv'\n",
    "file_name3 = 'spend.csv'"
   ]
  },
  {
   "cell_type": "code",
   "execution_count": 5,
   "id": "2e19d23b-48c0-40dd-8f2a-8a41440b985c",
   "metadata": {},
   "outputs": [],
   "source": [
    "customer = pd.read_csv(filepath_or_buffer=input_path+file_name1)\n",
    "repay = pd.read_csv(filepath_or_buffer=input_path+file_name2)\n",
    "spend = pd.read_csv(filepath_or_buffer=input_path+file_name3)"
   ]
  },
  {
   "cell_type": "markdown",
   "id": "f23b51bb-ee2e-4f2c-8941-a28a2af6eb2b",
   "metadata": {},
   "source": [
    "# Metadata inspection "
   ]
  },
  {
   "cell_type": "code",
   "execution_count": 7,
   "id": "b4b606b3-bdff-4235-a695-0583d69ce032",
   "metadata": {
    "scrolled": true
   },
   "outputs": [
    {
     "data": {
      "text/html": [
       "<div>\n",
       "<style scoped>\n",
       "    .dataframe tbody tr th:only-of-type {\n",
       "        vertical-align: middle;\n",
       "    }\n",
       "\n",
       "    .dataframe tbody tr th {\n",
       "        vertical-align: top;\n",
       "    }\n",
       "\n",
       "    .dataframe thead th {\n",
       "        text-align: right;\n",
       "    }\n",
       "</style>\n",
       "<table border=\"1\" class=\"dataframe\">\n",
       "  <thead>\n",
       "    <tr style=\"text-align: right;\">\n",
       "      <th></th>\n",
       "      <th>No</th>\n",
       "      <th>Customer</th>\n",
       "      <th>Age</th>\n",
       "      <th>City</th>\n",
       "      <th>Product</th>\n",
       "      <th>Limit</th>\n",
       "      <th>Company</th>\n",
       "      <th>Segment</th>\n",
       "    </tr>\n",
       "  </thead>\n",
       "  <tbody>\n",
       "    <tr>\n",
       "      <th>0</th>\n",
       "      <td>1</td>\n",
       "      <td>A1</td>\n",
       "      <td>76</td>\n",
       "      <td>BANGALORE</td>\n",
       "      <td>Gold</td>\n",
       "      <td>500000.0</td>\n",
       "      <td>C1</td>\n",
       "      <td>Self Employed</td>\n",
       "    </tr>\n",
       "    <tr>\n",
       "      <th>1</th>\n",
       "      <td>2</td>\n",
       "      <td>A2</td>\n",
       "      <td>71</td>\n",
       "      <td>CALCUTTA</td>\n",
       "      <td>Silver</td>\n",
       "      <td>100000.0</td>\n",
       "      <td>C2</td>\n",
       "      <td>Salaried_MNC</td>\n",
       "    </tr>\n",
       "    <tr>\n",
       "      <th>2</th>\n",
       "      <td>3</td>\n",
       "      <td>A3</td>\n",
       "      <td>34</td>\n",
       "      <td>COCHIN</td>\n",
       "      <td>Platimum</td>\n",
       "      <td>10000.0</td>\n",
       "      <td>C3</td>\n",
       "      <td>Salaried_Pvt</td>\n",
       "    </tr>\n",
       "    <tr>\n",
       "      <th>3</th>\n",
       "      <td>4</td>\n",
       "      <td>A4</td>\n",
       "      <td>47</td>\n",
       "      <td>BOMBAY</td>\n",
       "      <td>Platimum</td>\n",
       "      <td>10001.0</td>\n",
       "      <td>C4</td>\n",
       "      <td>Govt</td>\n",
       "    </tr>\n",
       "    <tr>\n",
       "      <th>4</th>\n",
       "      <td>5</td>\n",
       "      <td>A5</td>\n",
       "      <td>56</td>\n",
       "      <td>BANGALORE</td>\n",
       "      <td>Platimum</td>\n",
       "      <td>10002.0</td>\n",
       "      <td>C5</td>\n",
       "      <td>Normal Salary</td>\n",
       "    </tr>\n",
       "  </tbody>\n",
       "</table>\n",
       "</div>"
      ],
      "text/plain": [
       "   No Customer  Age       City   Product     Limit Company        Segment\n",
       "0   1       A1   76  BANGALORE      Gold  500000.0      C1  Self Employed\n",
       "1   2       A2   71   CALCUTTA    Silver  100000.0      C2   Salaried_MNC\n",
       "2   3       A3   34     COCHIN  Platimum   10000.0      C3   Salaried_Pvt\n",
       "3   4       A4   47     BOMBAY  Platimum   10001.0      C4           Govt\n",
       "4   5       A5   56  BANGALORE  Platimum   10002.0      C5  Normal Salary"
      ]
     },
     "execution_count": 7,
     "metadata": {},
     "output_type": "execute_result"
    }
   ],
   "source": [
    "customer.head()"
   ]
  },
  {
   "cell_type": "code",
   "execution_count": 8,
   "id": "0460d3e5-59e9-49cf-bf1a-0516ddec7c06",
   "metadata": {},
   "outputs": [
    {
     "data": {
      "text/plain": [
       "(100, 8)"
      ]
     },
     "execution_count": 8,
     "metadata": {},
     "output_type": "execute_result"
    }
   ],
   "source": [
    "customer.shape"
   ]
  },
  {
   "cell_type": "code",
   "execution_count": 9,
   "id": "10b2c71f-f3b2-4227-8869-30a03b025431",
   "metadata": {
    "scrolled": true
   },
   "outputs": [
    {
     "name": "stdout",
     "output_type": "stream",
     "text": [
      "<class 'pandas.core.frame.DataFrame'>\n",
      "RangeIndex: 100 entries, 0 to 99\n",
      "Data columns (total 8 columns):\n",
      " #   Column    Non-Null Count  Dtype  \n",
      "---  ------    --------------  -----  \n",
      " 0   No        100 non-null    int64  \n",
      " 1   Customer  100 non-null    object \n",
      " 2   Age       100 non-null    int64  \n",
      " 3   City      100 non-null    object \n",
      " 4   Product   100 non-null    object \n",
      " 5   Limit     100 non-null    float64\n",
      " 6   Company   100 non-null    object \n",
      " 7   Segment   100 non-null    object \n",
      "dtypes: float64(1), int64(2), object(5)\n",
      "memory usage: 6.4+ KB\n"
     ]
    }
   ],
   "source": [
    "customer.info()"
   ]
  },
  {
   "cell_type": "code",
   "execution_count": 10,
   "id": "58904fd8-e4c9-4645-9f17-b5849f678946",
   "metadata": {
    "scrolled": true
   },
   "outputs": [
    {
     "data": {
      "text/plain": [
       "No          0\n",
       "Customer    0\n",
       "Age         0\n",
       "City        0\n",
       "Product     0\n",
       "Limit       0\n",
       "Company     0\n",
       "Segment     0\n",
       "dtype: int64"
      ]
     },
     "execution_count": 10,
     "metadata": {},
     "output_type": "execute_result"
    }
   ],
   "source": [
    "customer.isna().sum()"
   ]
  },
  {
   "cell_type": "code",
   "execution_count": 19,
   "id": "2fcd016e-5016-4f54-9d56-bc59fe1731b2",
   "metadata": {},
   "outputs": [
    {
     "data": {
      "text/html": [
       "<div>\n",
       "<style scoped>\n",
       "    .dataframe tbody tr th:only-of-type {\n",
       "        vertical-align: middle;\n",
       "    }\n",
       "\n",
       "    .dataframe tbody tr th {\n",
       "        vertical-align: top;\n",
       "    }\n",
       "\n",
       "    .dataframe thead th {\n",
       "        text-align: right;\n",
       "    }\n",
       "</style>\n",
       "<table border=\"1\" class=\"dataframe\">\n",
       "  <thead>\n",
       "    <tr style=\"text-align: right;\">\n",
       "      <th></th>\n",
       "      <th>SL No:</th>\n",
       "      <th>Customer</th>\n",
       "      <th>Month</th>\n",
       "      <th>Amount</th>\n",
       "      <th>Unnamed: 4</th>\n",
       "    </tr>\n",
       "  </thead>\n",
       "  <tbody>\n",
       "    <tr>\n",
       "      <th>0</th>\n",
       "      <td>NaN</td>\n",
       "      <td>A1</td>\n",
       "      <td>12-Jan-04</td>\n",
       "      <td>495414.75</td>\n",
       "      <td>NaN</td>\n",
       "    </tr>\n",
       "    <tr>\n",
       "      <th>1</th>\n",
       "      <td>2.0</td>\n",
       "      <td>A1</td>\n",
       "      <td>3-Jan-04</td>\n",
       "      <td>245899.02</td>\n",
       "      <td>NaN</td>\n",
       "    </tr>\n",
       "    <tr>\n",
       "      <th>2</th>\n",
       "      <td>3.0</td>\n",
       "      <td>A1</td>\n",
       "      <td>15-Jan-04</td>\n",
       "      <td>259490.06</td>\n",
       "      <td>NaN</td>\n",
       "    </tr>\n",
       "    <tr>\n",
       "      <th>3</th>\n",
       "      <td>4.0</td>\n",
       "      <td>A1</td>\n",
       "      <td>25-Jan-04</td>\n",
       "      <td>437555.12</td>\n",
       "      <td>NaN</td>\n",
       "    </tr>\n",
       "    <tr>\n",
       "      <th>4</th>\n",
       "      <td>5.0</td>\n",
       "      <td>A1</td>\n",
       "      <td>17-Jan-05</td>\n",
       "      <td>165972.88</td>\n",
       "      <td>NaN</td>\n",
       "    </tr>\n",
       "  </tbody>\n",
       "</table>\n",
       "</div>"
      ],
      "text/plain": [
       "   SL No: Customer      Month     Amount  Unnamed: 4\n",
       "0     NaN       A1  12-Jan-04  495414.75         NaN\n",
       "1     2.0       A1   3-Jan-04  245899.02         NaN\n",
       "2     3.0       A1  15-Jan-04  259490.06         NaN\n",
       "3     4.0       A1  25-Jan-04  437555.12         NaN\n",
       "4     5.0       A1  17-Jan-05  165972.88         NaN"
      ]
     },
     "execution_count": 19,
     "metadata": {},
     "output_type": "execute_result"
    }
   ],
   "source": [
    "repay.head()"
   ]
  },
  {
   "cell_type": "code",
   "execution_count": 23,
   "id": "9820f79e-ba61-4f6c-b66e-2a8cb3db076c",
   "metadata": {},
   "outputs": [
    {
     "data": {
      "text/plain": [
       "(1523, 5)"
      ]
     },
     "execution_count": 23,
     "metadata": {},
     "output_type": "execute_result"
    }
   ],
   "source": [
    "repay.shape"
   ]
  },
  {
   "cell_type": "code",
   "execution_count": 27,
   "id": "a9ec567a-dbdb-40fb-a734-932b2f047429",
   "metadata": {},
   "outputs": [
    {
     "name": "stdout",
     "output_type": "stream",
     "text": [
      "<class 'pandas.core.frame.DataFrame'>\n",
      "RangeIndex: 1523 entries, 0 to 1522\n",
      "Data columns (total 5 columns):\n",
      " #   Column      Non-Null Count  Dtype  \n",
      "---  ------      --------------  -----  \n",
      " 0   SL No:      1499 non-null   float64\n",
      " 1   Customer    1500 non-null   object \n",
      " 2   Month       1500 non-null   object \n",
      " 3   Amount      1500 non-null   float64\n",
      " 4   Unnamed: 4  0 non-null      float64\n",
      "dtypes: float64(3), object(2)\n",
      "memory usage: 59.6+ KB\n"
     ]
    }
   ],
   "source": [
    "repay.info()"
   ]
  },
  {
   "cell_type": "code",
   "execution_count": 29,
   "id": "2c9d2729-aa0d-4fe4-8048-6c9220a126ee",
   "metadata": {},
   "outputs": [
    {
     "data": {
      "text/plain": [
       "Index(['SL No:', 'Customer', 'Month', 'Amount', 'Unnamed: 4'], dtype='object')"
      ]
     },
     "execution_count": 29,
     "metadata": {},
     "output_type": "execute_result"
    }
   ],
   "source": [
    "repay.columns"
   ]
  },
  {
   "cell_type": "code",
   "execution_count": 47,
   "id": "64211b8e-f9bd-443c-a76e-972959748c7e",
   "metadata": {},
   "outputs": [
    {
     "data": {
      "text/plain": [
       "SL No:          24\n",
       "Customer        23\n",
       "Month           23\n",
       "Amount          23\n",
       "Unnamed: 4    1523\n",
       "dtype: int64"
      ]
     },
     "execution_count": 47,
     "metadata": {},
     "output_type": "execute_result"
    }
   ],
   "source": [
    "repay.isna().sum()"
   ]
  },
  {
   "cell_type": "code",
   "execution_count": 33,
   "id": "882207fb-478b-4fb5-a7e4-4c72736ca479",
   "metadata": {},
   "outputs": [
    {
     "data": {
      "text/html": [
       "<div>\n",
       "<style scoped>\n",
       "    .dataframe tbody tr th:only-of-type {\n",
       "        vertical-align: middle;\n",
       "    }\n",
       "\n",
       "    .dataframe tbody tr th {\n",
       "        vertical-align: top;\n",
       "    }\n",
       "\n",
       "    .dataframe thead th {\n",
       "        text-align: right;\n",
       "    }\n",
       "</style>\n",
       "<table border=\"1\" class=\"dataframe\">\n",
       "  <thead>\n",
       "    <tr style=\"text-align: right;\">\n",
       "      <th></th>\n",
       "      <th>Sl No:</th>\n",
       "      <th>Customer</th>\n",
       "      <th>Month</th>\n",
       "      <th>Type</th>\n",
       "      <th>Amount</th>\n",
       "    </tr>\n",
       "  </thead>\n",
       "  <tbody>\n",
       "    <tr>\n",
       "      <th>0</th>\n",
       "      <td>1</td>\n",
       "      <td>A1</td>\n",
       "      <td>12-Jan-04</td>\n",
       "      <td>JEWELLERY</td>\n",
       "      <td>485470.80</td>\n",
       "    </tr>\n",
       "    <tr>\n",
       "      <th>1</th>\n",
       "      <td>2</td>\n",
       "      <td>A1</td>\n",
       "      <td>3-Jan-04</td>\n",
       "      <td>PETRO</td>\n",
       "      <td>410556.13</td>\n",
       "    </tr>\n",
       "    <tr>\n",
       "      <th>2</th>\n",
       "      <td>3</td>\n",
       "      <td>A1</td>\n",
       "      <td>15-Jan-04</td>\n",
       "      <td>CLOTHES</td>\n",
       "      <td>23740.46</td>\n",
       "    </tr>\n",
       "    <tr>\n",
       "      <th>3</th>\n",
       "      <td>4</td>\n",
       "      <td>A1</td>\n",
       "      <td>25-Jan-04</td>\n",
       "      <td>FOOD</td>\n",
       "      <td>484342.47</td>\n",
       "    </tr>\n",
       "    <tr>\n",
       "      <th>4</th>\n",
       "      <td>5</td>\n",
       "      <td>A1</td>\n",
       "      <td>17-Jan-05</td>\n",
       "      <td>CAMERA</td>\n",
       "      <td>369694.07</td>\n",
       "    </tr>\n",
       "  </tbody>\n",
       "</table>\n",
       "</div>"
      ],
      "text/plain": [
       "   Sl No: Customer      Month       Type     Amount\n",
       "0       1       A1  12-Jan-04  JEWELLERY  485470.80\n",
       "1       2       A1   3-Jan-04      PETRO  410556.13\n",
       "2       3       A1  15-Jan-04    CLOTHES   23740.46\n",
       "3       4       A1  25-Jan-04       FOOD  484342.47\n",
       "4       5       A1  17-Jan-05     CAMERA  369694.07"
      ]
     },
     "execution_count": 33,
     "metadata": {},
     "output_type": "execute_result"
    }
   ],
   "source": [
    "spend.head()"
   ]
  },
  {
   "cell_type": "code",
   "execution_count": 41,
   "id": "de2f4a3f-7f5c-46bb-ba4f-8ffc865fda42",
   "metadata": {},
   "outputs": [
    {
     "data": {
      "text/plain": [
       "(1500, 5)"
      ]
     },
     "execution_count": 41,
     "metadata": {},
     "output_type": "execute_result"
    }
   ],
   "source": [
    "spend.shape"
   ]
  },
  {
   "cell_type": "code",
   "execution_count": 37,
   "id": "620196a4-12c9-4f4a-9488-6a6ab99fcc8b",
   "metadata": {},
   "outputs": [
    {
     "name": "stdout",
     "output_type": "stream",
     "text": [
      "<class 'pandas.core.frame.DataFrame'>\n",
      "RangeIndex: 1500 entries, 0 to 1499\n",
      "Data columns (total 5 columns):\n",
      " #   Column    Non-Null Count  Dtype  \n",
      "---  ------    --------------  -----  \n",
      " 0   Sl No:    1500 non-null   int64  \n",
      " 1   Customer  1500 non-null   object \n",
      " 2   Month     1500 non-null   object \n",
      " 3   Type      1500 non-null   object \n",
      " 4   Amount    1500 non-null   float64\n",
      "dtypes: float64(1), int64(1), object(3)\n",
      "memory usage: 58.7+ KB\n"
     ]
    }
   ],
   "source": [
    "spend.info()"
   ]
  },
  {
   "cell_type": "code",
   "execution_count": 39,
   "id": "4aebecd1-743a-405e-8c8f-69c2d5444581",
   "metadata": {},
   "outputs": [
    {
     "data": {
      "text/plain": [
       "Index(['Sl No:', 'Customer', 'Month', 'Type', 'Amount'], dtype='object')"
      ]
     },
     "execution_count": 39,
     "metadata": {},
     "output_type": "execute_result"
    }
   ],
   "source": [
    "spend.columns"
   ]
  },
  {
   "cell_type": "code",
   "execution_count": 55,
   "id": "7ab43d50-01a1-4501-8b02-f38afabae2c2",
   "metadata": {
    "scrolled": true
   },
   "outputs": [
    {
     "data": {
      "text/plain": [
       "Sl No:      0\n",
       "Customer    0\n",
       "Month       0\n",
       "Type        0\n",
       "Amount      0\n",
       "dtype: int64"
      ]
     },
     "execution_count": 55,
     "metadata": {},
     "output_type": "execute_result"
    }
   ],
   "source": [
    "spend.isnull().sum()"
   ]
  },
  {
   "cell_type": "markdown",
   "id": "ed4fc95b-b12b-4855-9816-f39b5df50a8f",
   "metadata": {},
   "source": [
    "In case age is less than 18, replace it with mean of age values."
   ]
  },
  {
   "cell_type": "code",
   "execution_count": 19,
   "id": "edb5058c-c92f-4f68-a42c-795aad465667",
   "metadata": {
    "scrolled": true
   },
   "outputs": [
    {
     "data": {
      "text/html": [
       "<div>\n",
       "<style scoped>\n",
       "    .dataframe tbody tr th:only-of-type {\n",
       "        vertical-align: middle;\n",
       "    }\n",
       "\n",
       "    .dataframe tbody tr th {\n",
       "        vertical-align: top;\n",
       "    }\n",
       "\n",
       "    .dataframe thead th {\n",
       "        text-align: right;\n",
       "    }\n",
       "</style>\n",
       "<table border=\"1\" class=\"dataframe\">\n",
       "  <thead>\n",
       "    <tr style=\"text-align: right;\">\n",
       "      <th></th>\n",
       "      <th>No</th>\n",
       "      <th>Customer</th>\n",
       "      <th>Age</th>\n",
       "      <th>City</th>\n",
       "      <th>Product</th>\n",
       "      <th>Limit</th>\n",
       "      <th>Company</th>\n",
       "      <th>Segment</th>\n",
       "    </tr>\n",
       "  </thead>\n",
       "  <tbody>\n",
       "    <tr>\n",
       "      <th>13</th>\n",
       "      <td>14</td>\n",
       "      <td>A14</td>\n",
       "      <td>16</td>\n",
       "      <td>BANGALORE</td>\n",
       "      <td>Gold</td>\n",
       "      <td>500000.0</td>\n",
       "      <td>C14</td>\n",
       "      <td>Salaried_Pvt</td>\n",
       "    </tr>\n",
       "    <tr>\n",
       "      <th>40</th>\n",
       "      <td>41</td>\n",
       "      <td>A41</td>\n",
       "      <td>13</td>\n",
       "      <td>COCHIN</td>\n",
       "      <td>Platimum</td>\n",
       "      <td>500000.0</td>\n",
       "      <td>C23</td>\n",
       "      <td>Govt</td>\n",
       "    </tr>\n",
       "    <tr>\n",
       "      <th>62</th>\n",
       "      <td>63</td>\n",
       "      <td>A63</td>\n",
       "      <td>15</td>\n",
       "      <td>BANGALORE</td>\n",
       "      <td>Gold</td>\n",
       "      <td>500000.0</td>\n",
       "      <td>C25</td>\n",
       "      <td>Self Employed</td>\n",
       "    </tr>\n",
       "    <tr>\n",
       "      <th>67</th>\n",
       "      <td>68</td>\n",
       "      <td>A68</td>\n",
       "      <td>12</td>\n",
       "      <td>TRIVANDRUM</td>\n",
       "      <td>Silver</td>\n",
       "      <td>100000.0</td>\n",
       "      <td>C30</td>\n",
       "      <td>Self Employed</td>\n",
       "    </tr>\n",
       "    <tr>\n",
       "      <th>69</th>\n",
       "      <td>70</td>\n",
       "      <td>A70</td>\n",
       "      <td>16</td>\n",
       "      <td>BOMBAY</td>\n",
       "      <td>Platimum</td>\n",
       "      <td>10001.0</td>\n",
       "      <td>C32</td>\n",
       "      <td>Self Employed</td>\n",
       "    </tr>\n",
       "    <tr>\n",
       "      <th>89</th>\n",
       "      <td>90</td>\n",
       "      <td>A90</td>\n",
       "      <td>16</td>\n",
       "      <td>COCHIN</td>\n",
       "      <td>Gold</td>\n",
       "      <td>500000.0</td>\n",
       "      <td>C13</td>\n",
       "      <td>Govt</td>\n",
       "    </tr>\n",
       "  </tbody>\n",
       "</table>\n",
       "</div>"
      ],
      "text/plain": [
       "    No Customer  Age        City   Product     Limit Company        Segment\n",
       "13  14      A14   16   BANGALORE      Gold  500000.0     C14   Salaried_Pvt\n",
       "40  41      A41   13      COCHIN  Platimum  500000.0     C23           Govt\n",
       "62  63      A63   15   BANGALORE      Gold  500000.0     C25  Self Employed\n",
       "67  68      A68   12  TRIVANDRUM    Silver  100000.0     C30  Self Employed\n",
       "69  70      A70   16      BOMBAY  Platimum   10001.0     C32  Self Employed\n",
       "89  90      A90   16      COCHIN      Gold  500000.0     C13           Govt"
      ]
     },
     "execution_count": 19,
     "metadata": {},
     "output_type": "execute_result"
    }
   ],
   "source": [
    "customer.loc[customer['Age'] < 18]"
   ]
  },
  {
   "cell_type": "code",
   "execution_count": 17,
   "id": "ab0bc24a-306d-4dd0-b556-d2cb60e6ba52",
   "metadata": {},
   "outputs": [
    {
     "data": {
      "text/plain": [
       "46.49"
      ]
     },
     "execution_count": 17,
     "metadata": {},
     "output_type": "execute_result"
    }
   ],
   "source": [
    "customer.Age.mean()"
   ]
  },
  {
   "cell_type": "code",
   "execution_count": 21,
   "id": "e6bdf5af-0326-4342-ba79-e3b781400e70",
   "metadata": {},
   "outputs": [],
   "source": [
    "# In case age is less than 18, replace it with mean of age values.\n",
    "customer['Age'] = customer['Age'].apply(lambda x: customer.Age.mean() if x < 18 else x) "
   ]
  },
  {
   "cell_type": "code",
   "execution_count": 25,
   "id": "64836843-2501-455e-93d1-7a11f2d10cb2",
   "metadata": {},
   "outputs": [
    {
     "data": {
      "text/html": [
       "<div>\n",
       "<style scoped>\n",
       "    .dataframe tbody tr th:only-of-type {\n",
       "        vertical-align: middle;\n",
       "    }\n",
       "\n",
       "    .dataframe tbody tr th {\n",
       "        vertical-align: top;\n",
       "    }\n",
       "\n",
       "    .dataframe thead th {\n",
       "        text-align: right;\n",
       "    }\n",
       "</style>\n",
       "<table border=\"1\" class=\"dataframe\">\n",
       "  <thead>\n",
       "    <tr style=\"text-align: right;\">\n",
       "      <th></th>\n",
       "      <th>No</th>\n",
       "      <th>Customer</th>\n",
       "      <th>Age</th>\n",
       "      <th>City</th>\n",
       "      <th>Product</th>\n",
       "      <th>Limit</th>\n",
       "      <th>Company</th>\n",
       "      <th>Segment</th>\n",
       "    </tr>\n",
       "  </thead>\n",
       "  <tbody>\n",
       "  </tbody>\n",
       "</table>\n",
       "</div>"
      ],
      "text/plain": [
       "Empty DataFrame\n",
       "Columns: [No, Customer, Age, City, Product, Limit, Company, Segment]\n",
       "Index: []"
      ]
     },
     "execution_count": 25,
     "metadata": {},
     "output_type": "execute_result"
    }
   ],
   "source": [
    "customer.loc[customer['Age'] < 18]"
   ]
  },
  {
   "cell_type": "code",
   "execution_count": null,
   "id": "d0545a49-52cf-4a45-972a-43ebc6efa3ba",
   "metadata": {},
   "outputs": [],
   "source": []
  },
  {
   "cell_type": "markdown",
   "id": "9d9c38b6-4aab-402d-9068-5413e7d4b59a",
   "metadata": {},
   "source": [
    "Joining the Customer and Spend Tables"
   ]
  },
  {
   "cell_type": "code",
   "execution_count": 57,
   "id": "57b1ab1e-fd25-4cb0-ad33-18cecce08594",
   "metadata": {},
   "outputs": [],
   "source": [
    "a = pd.merge(left=customer, right=spend, left_on='Customer', right_on='Customer')"
   ]
  },
  {
   "cell_type": "code",
   "execution_count": 59,
   "id": "548cdc84-3fe7-482d-ad83-0715eb643c4e",
   "metadata": {},
   "outputs": [
    {
     "data": {
      "text/plain": [
       "(1500, 12)"
      ]
     },
     "execution_count": 59,
     "metadata": {},
     "output_type": "execute_result"
    }
   ],
   "source": [
    "a.shape"
   ]
  },
  {
   "cell_type": "code",
   "execution_count": 61,
   "id": "b23817a3-c5c7-4eeb-9562-c9863c9dce31",
   "metadata": {},
   "outputs": [
    {
     "data": {
      "text/plain": [
       "Index(['No', 'Customer', 'Age', 'City', 'Product', 'Limit', 'Company',\n",
       "       'Segment', 'Sl No:', 'Month', 'Type', 'Amount'],\n",
       "      dtype='object')"
      ]
     },
     "execution_count": 61,
     "metadata": {},
     "output_type": "execute_result"
    }
   ],
   "source": [
    "a.columns"
   ]
  },
  {
   "cell_type": "markdown",
   "id": "86dac948-8c85-4c59-ad7a-924bbed8322e",
   "metadata": {},
   "source": [
    "Spend amount is more than the limit, replace it with 50% of that customer’s limit. \n",
    "(customer’s limit provided in acquisition table is the per transaction limit on his card)"
   ]
  },
  {
   "cell_type": "code",
   "execution_count": 63,
   "id": "c454725b-3e9f-40c7-a9ea-109377013295",
   "metadata": {
    "scrolled": true
   },
   "outputs": [
    {
     "data": {
      "text/html": [
       "<div>\n",
       "<style scoped>\n",
       "    .dataframe tbody tr th:only-of-type {\n",
       "        vertical-align: middle;\n",
       "    }\n",
       "\n",
       "    .dataframe tbody tr th {\n",
       "        vertical-align: top;\n",
       "    }\n",
       "\n",
       "    .dataframe thead th {\n",
       "        text-align: right;\n",
       "    }\n",
       "</style>\n",
       "<table border=\"1\" class=\"dataframe\">\n",
       "  <thead>\n",
       "    <tr style=\"text-align: right;\">\n",
       "      <th></th>\n",
       "      <th>Limit</th>\n",
       "      <th>Amount</th>\n",
       "    </tr>\n",
       "  </thead>\n",
       "  <tbody>\n",
       "    <tr>\n",
       "      <th>18</th>\n",
       "      <td>100000.0</td>\n",
       "      <td>199554.72</td>\n",
       "    </tr>\n",
       "    <tr>\n",
       "      <th>19</th>\n",
       "      <td>100000.0</td>\n",
       "      <td>376887.49</td>\n",
       "    </tr>\n",
       "    <tr>\n",
       "      <th>20</th>\n",
       "      <td>100000.0</td>\n",
       "      <td>439648.53</td>\n",
       "    </tr>\n",
       "    <tr>\n",
       "      <th>21</th>\n",
       "      <td>100000.0</td>\n",
       "      <td>384078.73</td>\n",
       "    </tr>\n",
       "    <tr>\n",
       "      <th>22</th>\n",
       "      <td>100000.0</td>\n",
       "      <td>117089.16</td>\n",
       "    </tr>\n",
       "    <tr>\n",
       "      <th>...</th>\n",
       "      <td>...</td>\n",
       "      <td>...</td>\n",
       "    </tr>\n",
       "    <tr>\n",
       "      <th>1486</th>\n",
       "      <td>100003.0</td>\n",
       "      <td>483886.62</td>\n",
       "    </tr>\n",
       "    <tr>\n",
       "      <th>1496</th>\n",
       "      <td>10000.0</td>\n",
       "      <td>139018.26</td>\n",
       "    </tr>\n",
       "    <tr>\n",
       "      <th>1497</th>\n",
       "      <td>10001.0</td>\n",
       "      <td>284521.06</td>\n",
       "    </tr>\n",
       "    <tr>\n",
       "      <th>1498</th>\n",
       "      <td>10002.0</td>\n",
       "      <td>90184.22</td>\n",
       "    </tr>\n",
       "    <tr>\n",
       "      <th>1499</th>\n",
       "      <td>100000.0</td>\n",
       "      <td>224786.88</td>\n",
       "    </tr>\n",
       "  </tbody>\n",
       "</table>\n",
       "<p>607 rows × 2 columns</p>\n",
       "</div>"
      ],
      "text/plain": [
       "         Limit     Amount\n",
       "18    100000.0  199554.72\n",
       "19    100000.0  376887.49\n",
       "20    100000.0  439648.53\n",
       "21    100000.0  384078.73\n",
       "22    100000.0  117089.16\n",
       "...        ...        ...\n",
       "1486  100003.0  483886.62\n",
       "1496   10000.0  139018.26\n",
       "1497   10001.0  284521.06\n",
       "1498   10002.0   90184.22\n",
       "1499  100000.0  224786.88\n",
       "\n",
       "[607 rows x 2 columns]"
      ]
     },
     "execution_count": 63,
     "metadata": {},
     "output_type": "execute_result"
    }
   ],
   "source": [
    "a.loc[a['Limit'] <= a['Amount'], ['Limit','Amount']]"
   ]
  },
  {
   "cell_type": "code",
   "execution_count": 65,
   "id": "3f09a600-a199-4312-aa03-f21d1657c976",
   "metadata": {
    "scrolled": true
   },
   "outputs": [
    {
     "data": {
      "text/plain": [
       "0       250000.0\n",
       "1       250000.0\n",
       "2       250000.0\n",
       "3       250000.0\n",
       "4       250000.0\n",
       "          ...   \n",
       "1495     50000.0\n",
       "1496      5000.0\n",
       "1497      5000.5\n",
       "1498      5001.0\n",
       "1499     50000.0\n",
       "Name: Limit, Length: 1500, dtype: float64"
      ]
     },
     "execution_count": 65,
     "metadata": {},
     "output_type": "execute_result"
    }
   ],
   "source": [
    "a.Limit * 0.5"
   ]
  },
  {
   "cell_type": "code",
   "execution_count": 67,
   "id": "cf264ee2-e10b-4ff1-8b11-6bd4d3c6f0e2",
   "metadata": {},
   "outputs": [],
   "source": [
    "a['Amount'] = a.apply(lambda x: x['Limit'] * 0.5 if x['Amount'] > x['Limit'] else x['Amount'], axis=1)"
   ]
  },
  {
   "cell_type": "code",
   "execution_count": 69,
   "id": "b84863d3-35b1-4926-a116-8d28e2b16791",
   "metadata": {},
   "outputs": [
    {
     "data": {
      "text/html": [
       "<div>\n",
       "<style scoped>\n",
       "    .dataframe tbody tr th:only-of-type {\n",
       "        vertical-align: middle;\n",
       "    }\n",
       "\n",
       "    .dataframe tbody tr th {\n",
       "        vertical-align: top;\n",
       "    }\n",
       "\n",
       "    .dataframe thead th {\n",
       "        text-align: right;\n",
       "    }\n",
       "</style>\n",
       "<table border=\"1\" class=\"dataframe\">\n",
       "  <thead>\n",
       "    <tr style=\"text-align: right;\">\n",
       "      <th></th>\n",
       "      <th>No</th>\n",
       "      <th>Customer</th>\n",
       "      <th>Age</th>\n",
       "      <th>City</th>\n",
       "      <th>Product</th>\n",
       "      <th>Limit</th>\n",
       "      <th>Company</th>\n",
       "      <th>Segment</th>\n",
       "      <th>Sl No:</th>\n",
       "      <th>Month</th>\n",
       "      <th>Type</th>\n",
       "      <th>Amount</th>\n",
       "    </tr>\n",
       "  </thead>\n",
       "  <tbody>\n",
       "  </tbody>\n",
       "</table>\n",
       "</div>"
      ],
      "text/plain": [
       "Empty DataFrame\n",
       "Columns: [No, Customer, Age, City, Product, Limit, Company, Segment, Sl No:, Month, Type, Amount]\n",
       "Index: []"
      ]
     },
     "execution_count": 69,
     "metadata": {},
     "output_type": "execute_result"
    }
   ],
   "source": [
    "a[a['Limit'] <= a['Amount']]"
   ]
  },
  {
   "cell_type": "code",
   "execution_count": null,
   "id": "7bfcb6bf-2795-43ef-9012-175e335b7690",
   "metadata": {},
   "outputs": [],
   "source": []
  },
  {
   "cell_type": "markdown",
   "id": "fc82453f-4f3b-4694-a67f-949b1307b3f7",
   "metadata": {},
   "source": [
    "Joining the Customer and Repayment Tables"
   ]
  },
  {
   "cell_type": "code",
   "execution_count": 71,
   "id": "ca64be90-a742-47ee-b0e9-8169824caa63",
   "metadata": {},
   "outputs": [],
   "source": [
    "b = pd.merge(left=customer, right=repay, left_on='Customer', right_on='Customer')"
   ]
  },
  {
   "cell_type": "code",
   "execution_count": 73,
   "id": "afba3343-6ce1-4a23-8634-96aebb150d39",
   "metadata": {},
   "outputs": [
    {
     "data": {
      "text/plain": [
       "(1500, 12)"
      ]
     },
     "execution_count": 73,
     "metadata": {},
     "output_type": "execute_result"
    }
   ],
   "source": [
    "b.shape"
   ]
  },
  {
   "cell_type": "code",
   "execution_count": 75,
   "id": "cb032c7d-31dd-4b84-a27f-8808606fd6f3",
   "metadata": {},
   "outputs": [
    {
     "data": {
      "text/plain": [
       "Index(['No', 'Customer', 'Age', 'City', 'Product', 'Limit', 'Company',\n",
       "       'Segment', 'SL No:', 'Month', 'Amount', 'Unnamed: 4'],\n",
       "      dtype='object')"
      ]
     },
     "execution_count": 75,
     "metadata": {},
     "output_type": "execute_result"
    }
   ],
   "source": [
    "b.columns"
   ]
  },
  {
   "cell_type": "code",
   "execution_count": null,
   "id": "91848e3f-48ae-4296-93c9-973d6b3c4ae8",
   "metadata": {},
   "outputs": [],
   "source": []
  },
  {
   "cell_type": "markdown",
   "id": "cb89dbea-2d11-4fe8-a1aa-02e5f3c0dd33",
   "metadata": {},
   "source": [
    "The repayment amount is more than the limit, replace the repayment with the \n",
    "limit."
   ]
  },
  {
   "cell_type": "code",
   "execution_count": 77,
   "id": "31eeb6c5-84dc-4852-98b6-1d1984331997",
   "metadata": {
    "scrolled": true
   },
   "outputs": [
    {
     "data": {
      "text/html": [
       "<div>\n",
       "<style scoped>\n",
       "    .dataframe tbody tr th:only-of-type {\n",
       "        vertical-align: middle;\n",
       "    }\n",
       "\n",
       "    .dataframe tbody tr th {\n",
       "        vertical-align: top;\n",
       "    }\n",
       "\n",
       "    .dataframe thead th {\n",
       "        text-align: right;\n",
       "    }\n",
       "</style>\n",
       "<table border=\"1\" class=\"dataframe\">\n",
       "  <thead>\n",
       "    <tr style=\"text-align: right;\">\n",
       "      <th></th>\n",
       "      <th>No</th>\n",
       "      <th>Customer</th>\n",
       "      <th>Age</th>\n",
       "      <th>City</th>\n",
       "      <th>Product</th>\n",
       "      <th>Limit</th>\n",
       "      <th>Company</th>\n",
       "      <th>Segment</th>\n",
       "      <th>SL No:</th>\n",
       "      <th>Month</th>\n",
       "      <th>Amount</th>\n",
       "      <th>Unnamed: 4</th>\n",
       "    </tr>\n",
       "  </thead>\n",
       "  <tbody>\n",
       "    <tr>\n",
       "      <th>18</th>\n",
       "      <td>2</td>\n",
       "      <td>A2</td>\n",
       "      <td>71.0</td>\n",
       "      <td>CALCUTTA</td>\n",
       "      <td>Silver</td>\n",
       "      <td>100000.0</td>\n",
       "      <td>C2</td>\n",
       "      <td>Salaried_MNC</td>\n",
       "      <td>104.0</td>\n",
       "      <td>3-Jan-04</td>\n",
       "      <td>185955.07</td>\n",
       "      <td>NaN</td>\n",
       "    </tr>\n",
       "    <tr>\n",
       "      <th>19</th>\n",
       "      <td>2</td>\n",
       "      <td>A2</td>\n",
       "      <td>71.0</td>\n",
       "      <td>CALCUTTA</td>\n",
       "      <td>Silver</td>\n",
       "      <td>100000.0</td>\n",
       "      <td>C2</td>\n",
       "      <td>Salaried_MNC</td>\n",
       "      <td>118.0</td>\n",
       "      <td>28-Feb-05</td>\n",
       "      <td>412783.34</td>\n",
       "      <td>NaN</td>\n",
       "    </tr>\n",
       "    <tr>\n",
       "      <th>20</th>\n",
       "      <td>2</td>\n",
       "      <td>A2</td>\n",
       "      <td>71.0</td>\n",
       "      <td>CALCUTTA</td>\n",
       "      <td>Silver</td>\n",
       "      <td>100000.0</td>\n",
       "      <td>C2</td>\n",
       "      <td>Salaried_MNC</td>\n",
       "      <td>132.0</td>\n",
       "      <td>6-Apr-04</td>\n",
       "      <td>148038.67</td>\n",
       "      <td>NaN</td>\n",
       "    </tr>\n",
       "    <tr>\n",
       "      <th>21</th>\n",
       "      <td>2</td>\n",
       "      <td>A2</td>\n",
       "      <td>71.0</td>\n",
       "      <td>CALCUTTA</td>\n",
       "      <td>Silver</td>\n",
       "      <td>100000.0</td>\n",
       "      <td>C2</td>\n",
       "      <td>Salaried_MNC</td>\n",
       "      <td>146.0</td>\n",
       "      <td>23-Nov-04</td>\n",
       "      <td>179144.68</td>\n",
       "      <td>NaN</td>\n",
       "    </tr>\n",
       "    <tr>\n",
       "      <th>23</th>\n",
       "      <td>2</td>\n",
       "      <td>A2</td>\n",
       "      <td>71.0</td>\n",
       "      <td>CALCUTTA</td>\n",
       "      <td>Silver</td>\n",
       "      <td>100000.0</td>\n",
       "      <td>C2</td>\n",
       "      <td>Salaried_MNC</td>\n",
       "      <td>174.0</td>\n",
       "      <td>3-Aug-05</td>\n",
       "      <td>381635.66</td>\n",
       "      <td>NaN</td>\n",
       "    </tr>\n",
       "  </tbody>\n",
       "</table>\n",
       "</div>"
      ],
      "text/plain": [
       "    No Customer   Age      City Product     Limit Company       Segment  \\\n",
       "18   2       A2  71.0  CALCUTTA  Silver  100000.0      C2  Salaried_MNC   \n",
       "19   2       A2  71.0  CALCUTTA  Silver  100000.0      C2  Salaried_MNC   \n",
       "20   2       A2  71.0  CALCUTTA  Silver  100000.0      C2  Salaried_MNC   \n",
       "21   2       A2  71.0  CALCUTTA  Silver  100000.0      C2  Salaried_MNC   \n",
       "23   2       A2  71.0  CALCUTTA  Silver  100000.0      C2  Salaried_MNC   \n",
       "\n",
       "    SL No:      Month     Amount  Unnamed: 4  \n",
       "18   104.0   3-Jan-04  185955.07         NaN  \n",
       "19   118.0  28-Feb-05  412783.34         NaN  \n",
       "20   132.0   6-Apr-04  148038.67         NaN  \n",
       "21   146.0  23-Nov-04  179144.68         NaN  \n",
       "23   174.0   3-Aug-05  381635.66         NaN  "
      ]
     },
     "execution_count": 77,
     "metadata": {},
     "output_type": "execute_result"
    }
   ],
   "source": [
    "b[b['Limit'] < b['Amount']].head()"
   ]
  },
  {
   "cell_type": "code",
   "execution_count": 79,
   "id": "fa1d0fa5-aca1-4e04-8971-7f6f66cd2087",
   "metadata": {},
   "outputs": [],
   "source": [
    "# axis is used to row wise calucation \n",
    "b['Amount'] = b.apply(lambda x: x['Limit'] if x['Amount'] > x['Limit'] else x['Amount'], axis = 1)"
   ]
  },
  {
   "cell_type": "code",
   "execution_count": 81,
   "id": "9bdbdeb6-2f60-40b4-954e-10f332593243",
   "metadata": {},
   "outputs": [
    {
     "data": {
      "text/html": [
       "<div>\n",
       "<style scoped>\n",
       "    .dataframe tbody tr th:only-of-type {\n",
       "        vertical-align: middle;\n",
       "    }\n",
       "\n",
       "    .dataframe tbody tr th {\n",
       "        vertical-align: top;\n",
       "    }\n",
       "\n",
       "    .dataframe thead th {\n",
       "        text-align: right;\n",
       "    }\n",
       "</style>\n",
       "<table border=\"1\" class=\"dataframe\">\n",
       "  <thead>\n",
       "    <tr style=\"text-align: right;\">\n",
       "      <th></th>\n",
       "      <th>No</th>\n",
       "      <th>Customer</th>\n",
       "      <th>Age</th>\n",
       "      <th>City</th>\n",
       "      <th>Product</th>\n",
       "      <th>Limit</th>\n",
       "      <th>Company</th>\n",
       "      <th>Segment</th>\n",
       "      <th>SL No:</th>\n",
       "      <th>Month</th>\n",
       "      <th>Amount</th>\n",
       "      <th>Unnamed: 4</th>\n",
       "    </tr>\n",
       "  </thead>\n",
       "  <tbody>\n",
       "  </tbody>\n",
       "</table>\n",
       "</div>"
      ],
      "text/plain": [
       "Empty DataFrame\n",
       "Columns: [No, Customer, Age, City, Product, Limit, Company, Segment, SL No:, Month, Amount, Unnamed: 4]\n",
       "Index: []"
      ]
     },
     "execution_count": 81,
     "metadata": {},
     "output_type": "execute_result"
    }
   ],
   "source": [
    "b[b['Limit'] < b['Amount']]"
   ]
  },
  {
   "cell_type": "markdown",
   "id": "58e18861-1b70-4869-a924-f6688affe3ff",
   "metadata": {},
   "source": [
    " Distinct customers"
   ]
  },
  {
   "cell_type": "code",
   "execution_count": null,
   "id": "50364b89-e397-4024-92d8-998c176b2806",
   "metadata": {},
   "outputs": [],
   "source": []
  },
  {
   "cell_type": "code",
   "execution_count": 83,
   "id": "925a6ab5-0666-4fb7-be34-13eaa60d06e2",
   "metadata": {},
   "outputs": [
    {
     "data": {
      "text/plain": [
       "array(['A1', 'A2', 'A3', 'A4', 'A5', 'A6', 'A7', 'A8', 'A9', 'A10', 'A11',\n",
       "       'A12', 'A13', 'A14', 'A15', 'A16', 'A17', 'A18', 'A19', 'A20',\n",
       "       'A21', 'A22', 'A23', 'A24', 'A25', 'A26', 'A27', 'A28', 'A29',\n",
       "       'A30', 'A31', 'A32', 'A33', 'A34', 'A35', 'A36', 'A37', 'A38',\n",
       "       'A39', 'A40', 'A41', 'A42', 'A43', 'A44', 'A45', 'A46', 'A47',\n",
       "       'A48', 'A49', 'A50', 'A51', 'A52', 'A53', 'A54', 'A55', 'A56',\n",
       "       'A57', 'A58', 'A59', 'A60', 'A61', 'A62', 'A63', 'A64', 'A65',\n",
       "       'A66', 'A67', 'A68', 'A69', 'A70', 'A71', 'A72', 'A73', 'A74',\n",
       "       'A75', 'A76', 'A77', 'A78', 'A79', 'A80', 'A81', 'A82', 'A83',\n",
       "       'A84', 'A85', 'A86', 'A87', 'A88', 'A89', 'A90', 'A91', 'A92',\n",
       "       'A93', 'A94', 'A95', 'A96', 'A97', 'A98', 'A99', 'A100'],\n",
       "      dtype=object)"
      ]
     },
     "execution_count": 83,
     "metadata": {},
     "output_type": "execute_result"
    }
   ],
   "source": [
    "customer['Customer'].unique()"
   ]
  },
  {
   "cell_type": "code",
   "execution_count": 85,
   "id": "93494bcc-7914-43f3-8a34-40dc2356cf97",
   "metadata": {},
   "outputs": [
    {
     "data": {
      "text/plain": [
       "100"
      ]
     },
     "execution_count": 85,
     "metadata": {},
     "output_type": "execute_result"
    }
   ],
   "source": [
    "customer['Customer'].nunique()"
   ]
  },
  {
   "cell_type": "code",
   "execution_count": 87,
   "id": "8607a8d9-afab-498a-93a8-d187778c5e5a",
   "metadata": {},
   "outputs": [
    {
     "data": {
      "text/plain": [
       "array(['Gold', 'Silver', 'Platimum'], dtype=object)"
      ]
     },
     "execution_count": 87,
     "metadata": {},
     "output_type": "execute_result"
    }
   ],
   "source": [
    "customer['Product'].unique()"
   ]
  },
  {
   "cell_type": "code",
   "execution_count": 89,
   "id": "506c6ad6-821c-4278-aded-e05f254d924d",
   "metadata": {},
   "outputs": [
    {
     "data": {
      "text/plain": [
       "array(['Self Employed', 'Salaried_MNC', 'Salaried_Pvt', 'Govt',\n",
       "       'Normal Salary'], dtype=object)"
      ]
     },
     "execution_count": 89,
     "metadata": {},
     "output_type": "execute_result"
    }
   ],
   "source": [
    "customer.Segment.unique()"
   ]
  },
  {
   "cell_type": "code",
   "execution_count": 91,
   "id": "105e0589-93d7-45a2-87c0-6bd21ce72f39",
   "metadata": {},
   "outputs": [
    {
     "data": {
      "text/plain": [
       "array(['BANGALORE', 'CALCUTTA', 'COCHIN', 'BOMBAY', 'DELHI', 'PATNA',\n",
       "       'CHENNAI', 'TRIVANDRUM'], dtype=object)"
      ]
     },
     "execution_count": 91,
     "metadata": {},
     "output_type": "execute_result"
    }
   ],
   "source": [
    "customer.City.unique()"
   ]
  },
  {
   "cell_type": "code",
   "execution_count": 93,
   "id": "2bf810a9-8ded-4e58-99b8-f85a0d805c15",
   "metadata": {},
   "outputs": [
    {
     "data": {
      "text/plain": [
       "No            int64\n",
       "Customer     object\n",
       "Age         float64\n",
       "City         object\n",
       "Product      object\n",
       "Limit       float64\n",
       "Company      object\n",
       "Segment      object\n",
       "Sl No:        int64\n",
       "Month        object\n",
       "Type         object\n",
       "Amount      float64\n",
       "dtype: object"
      ]
     },
     "execution_count": 93,
     "metadata": {},
     "output_type": "execute_result"
    }
   ],
   "source": [
    "a.dtypes"
   ]
  },
  {
   "cell_type": "code",
   "execution_count": 95,
   "id": "687e9c6a-6fa7-466e-b456-2b806d8899bd",
   "metadata": {},
   "outputs": [
    {
     "data": {
      "text/html": [
       "<div>\n",
       "<style scoped>\n",
       "    .dataframe tbody tr th:only-of-type {\n",
       "        vertical-align: middle;\n",
       "    }\n",
       "\n",
       "    .dataframe tbody tr th {\n",
       "        vertical-align: top;\n",
       "    }\n",
       "\n",
       "    .dataframe thead th {\n",
       "        text-align: right;\n",
       "    }\n",
       "</style>\n",
       "<table border=\"1\" class=\"dataframe\">\n",
       "  <thead>\n",
       "    <tr style=\"text-align: right;\">\n",
       "      <th></th>\n",
       "      <th>No</th>\n",
       "      <th>Customer</th>\n",
       "      <th>Age</th>\n",
       "      <th>City</th>\n",
       "      <th>Product</th>\n",
       "      <th>Limit</th>\n",
       "      <th>Company</th>\n",
       "      <th>Segment</th>\n",
       "      <th>Sl No:</th>\n",
       "      <th>Month</th>\n",
       "      <th>Type</th>\n",
       "      <th>Amount</th>\n",
       "    </tr>\n",
       "  </thead>\n",
       "  <tbody>\n",
       "    <tr>\n",
       "      <th>0</th>\n",
       "      <td>1</td>\n",
       "      <td>A1</td>\n",
       "      <td>76.0</td>\n",
       "      <td>BANGALORE</td>\n",
       "      <td>Gold</td>\n",
       "      <td>500000.0</td>\n",
       "      <td>C1</td>\n",
       "      <td>Self Employed</td>\n",
       "      <td>1</td>\n",
       "      <td>12-Jan-04</td>\n",
       "      <td>JEWELLERY</td>\n",
       "      <td>485470.8</td>\n",
       "    </tr>\n",
       "  </tbody>\n",
       "</table>\n",
       "</div>"
      ],
      "text/plain": [
       "   No Customer   Age       City Product     Limit Company        Segment  \\\n",
       "0   1       A1  76.0  BANGALORE    Gold  500000.0      C1  Self Employed   \n",
       "\n",
       "   Sl No:      Month       Type    Amount  \n",
       "0       1  12-Jan-04  JEWELLERY  485470.8  "
      ]
     },
     "execution_count": 95,
     "metadata": {},
     "output_type": "execute_result"
    }
   ],
   "source": [
    "a.head(1)"
   ]
  },
  {
   "cell_type": "code",
   "execution_count": 97,
   "id": "270ebf8e-5002-4e2e-ac55-a5406ba0951b",
   "metadata": {},
   "outputs": [],
   "source": [
    "a['Month'] = pd.to_datetime(a['Month'], format='%d-%b-%y')"
   ]
  },
  {
   "cell_type": "code",
   "execution_count": 99,
   "id": "3730696f-2afb-4a7f-ac26-9df1e1ccce35",
   "metadata": {},
   "outputs": [
    {
     "data": {
      "text/plain": [
       "array([2004, 2005, 2006])"
      ]
     },
     "execution_count": 99,
     "metadata": {},
     "output_type": "execute_result"
    }
   ],
   "source": [
    "a['Month'].dt.year.unique()"
   ]
  },
  {
   "cell_type": "code",
   "execution_count": 101,
   "id": "1b3b4a91-4b4a-4c15-9721-19be680baac8",
   "metadata": {},
   "outputs": [
    {
     "data": {
      "text/plain": [
       "0       1\n",
       "1       1\n",
       "2       1\n",
       "3       1\n",
       "4       1\n",
       "       ..\n",
       "1495    1\n",
       "1496    1\n",
       "1497    1\n",
       "1498    1\n",
       "1499    1\n",
       "Name: Month, Length: 1500, dtype: int32"
      ]
     },
     "execution_count": 101,
     "metadata": {},
     "output_type": "execute_result"
    }
   ],
   "source": [
    "a['Month'].dt.month"
   ]
  },
  {
   "cell_type": "code",
   "execution_count": null,
   "id": "34023de6-e9a9-4478-b9ff-6c7d89626593",
   "metadata": {},
   "outputs": [],
   "source": []
  },
  {
   "cell_type": "markdown",
   "id": "5a5be59e-e80a-417c-a9e1-f489de7d3593",
   "metadata": {},
   "source": [
    "The average monthly spend by customers?"
   ]
  },
  {
   "cell_type": "code",
   "execution_count": 103,
   "id": "02c378fe-a090-4741-a17e-9ff0c77fcdd7",
   "metadata": {},
   "outputs": [
    {
     "data": {
      "text/plain": [
       "Customer  Month\n",
       "A1        1        372762.587143\n",
       "          2        175235.690000\n",
       "          4        261649.250000\n",
       "          5        361141.310000\n",
       "          8        344372.100000\n",
       "          10       244534.680000\n",
       "          11       183839.610000\n",
       "A10       1        161144.326667\n",
       "          2        194557.667500\n",
       "          3        134631.266667\n",
       "Name: Amount, dtype: float64"
      ]
     },
     "execution_count": 103,
     "metadata": {},
     "output_type": "execute_result"
    }
   ],
   "source": [
    "a.groupby(by = ['Customer', a['Month'].dt.month])['Amount'].mean().head(10)"
   ]
  },
  {
   "cell_type": "code",
   "execution_count": 105,
   "id": "efae9a70-6e49-4793-98bf-508c841c6d99",
   "metadata": {
    "scrolled": true
   },
   "outputs": [
    {
     "data": {
      "text/plain": [
       "No              int64\n",
       "Customer       object\n",
       "Age           float64\n",
       "City           object\n",
       "Product        object\n",
       "Limit         float64\n",
       "Company        object\n",
       "Segment        object\n",
       "SL No:        float64\n",
       "Month          object\n",
       "Amount        float64\n",
       "Unnamed: 4    float64\n",
       "dtype: object"
      ]
     },
     "execution_count": 105,
     "metadata": {},
     "output_type": "execute_result"
    }
   ],
   "source": [
    "b.dtypes"
   ]
  },
  {
   "cell_type": "code",
   "execution_count": 107,
   "id": "a718c75f-cc86-4b3c-991d-1080df25c4b7",
   "metadata": {},
   "outputs": [],
   "source": [
    "b['Month'] = pd.to_datetime(b['Month'], format='%d-%b-%y')"
   ]
  },
  {
   "cell_type": "code",
   "execution_count": null,
   "id": "42f74c4b-409b-4602-b67b-815c94a753f9",
   "metadata": {},
   "outputs": [],
   "source": []
  },
  {
   "cell_type": "markdown",
   "id": "25e5a4c4-1560-41e3-9bd8-f73f89431fe1",
   "metadata": {},
   "source": [
    "The average monthly repayment by customers"
   ]
  },
  {
   "cell_type": "code",
   "execution_count": 109,
   "id": "5ee5196a-a54e-4ca0-b29d-8bcaa4f25308",
   "metadata": {
    "scrolled": true
   },
   "outputs": [
    {
     "data": {
      "text/plain": [
       "Customer  Month\n",
       "A1        1        343972.327143\n",
       "          2        156374.760000\n",
       "          4        254474.580000\n",
       "          7        297176.740000\n",
       "          9        186427.500000\n",
       "          11       285729.090000\n",
       "A10       1        272897.385000\n",
       "          2        217344.503333\n",
       "          3        240130.543333\n",
       "          4        159582.470000\n",
       "Name: Amount, dtype: float64"
      ]
     },
     "execution_count": 109,
     "metadata": {},
     "output_type": "execute_result"
    }
   ],
   "source": [
    "b.groupby(by=['Customer', b['Month'].dt.month])['Amount'].mean().head(10)"
   ]
  },
  {
   "cell_type": "markdown",
   "id": "4b34c415-74df-4c25-be35-d1694fe4f3ef",
   "metadata": {},
   "source": [
    "Profit is defined as interest earned on Monthly Profit. Monthly Profit = Monthly repayment – Monthly spend. Interest is earned only on positive profits and not on negative amounts"
   ]
  },
  {
   "cell_type": "markdown",
   "id": "8adb324d-4f01-49cb-a3b1-2368b2d5271a",
   "metadata": {},
   "source": [
    "The top 5 product types"
   ]
  },
  {
   "cell_type": "code",
   "execution_count": 111,
   "id": "897ffbcd-f9a7-4db2-b6a1-7a9238bf8d96",
   "metadata": {},
   "outputs": [
    {
     "data": {
      "text/plain": [
       "Product\n",
       "Gold        1.462004e+08\n",
       "Platimum    5.638741e+07\n",
       "Silver      1.719332e+07\n",
       "Name: Amount, dtype: float64"
      ]
     },
     "execution_count": 111,
     "metadata": {},
     "output_type": "execute_result"
    }
   ],
   "source": [
    "a.groupby(by=['Product'])['Amount'].sum()"
   ]
  },
  {
   "cell_type": "markdown",
   "id": "53cef3dc-2e66-401e-858a-2bd5ec4a71f9",
   "metadata": {},
   "source": [
    " Cities having maximum spend"
   ]
  },
  {
   "cell_type": "code",
   "execution_count": 113,
   "id": "2928202f-7ea5-497b-88e2-4c9ff8f7fc44",
   "metadata": {
    "scrolled": true
   },
   "outputs": [
    {
     "data": {
      "text/plain": [
       "City\n",
       "COCHIN        45963513.50\n",
       "CALCUTTA      41108132.30\n",
       "BANGALORE     40461647.02\n",
       "BOMBAY        28603127.38\n",
       "CHENNAI       22128635.65\n",
       "TRIVANDRUM    15337155.87\n",
       "PATNA         15260586.97\n",
       "DELHI         10918286.54\n",
       "Name: Amount, dtype: float64"
      ]
     },
     "execution_count": 113,
     "metadata": {},
     "output_type": "execute_result"
    }
   ],
   "source": [
    "a.groupby(by=['City'])['Amount'].sum().sort_values(ascending=False)"
   ]
  },
  {
   "cell_type": "markdown",
   "id": "1cb0cb77-16fb-49e3-8bb5-3d78cd9e76ec",
   "metadata": {},
   "source": [
    " Which age group is spending more money"
   ]
  },
  {
   "cell_type": "code",
   "execution_count": 123,
   "id": "b9878db8-cac0-4d82-bfba-019fd49344a4",
   "metadata": {
    "scrolled": true
   },
   "outputs": [
    {
     "name": "stderr",
     "output_type": "stream",
     "text": [
      "C:\\Users\\ANIL KUMAR\\AppData\\Local\\Temp\\ipykernel_24004\\1810514897.py:1: FutureWarning: The provided callable <built-in function sum> is currently using DataFrameGroupBy.sum. In a future version of pandas, the provided callable will be used directly. To keep current behavior pass the string \"sum\" instead.\n",
      "  a.pivot_table(index='Age', values='Amount', aggfunc=sum).sort_values(by = \"Amount\", ascending=False)\n"
     ]
    },
    {
     "data": {
      "text/html": [
       "<div>\n",
       "<style scoped>\n",
       "    .dataframe tbody tr th:only-of-type {\n",
       "        vertical-align: middle;\n",
       "    }\n",
       "\n",
       "    .dataframe tbody tr th {\n",
       "        vertical-align: top;\n",
       "    }\n",
       "\n",
       "    .dataframe thead th {\n",
       "        text-align: right;\n",
       "    }\n",
       "</style>\n",
       "<table border=\"1\" class=\"dataframe\">\n",
       "  <thead>\n",
       "    <tr style=\"text-align: right;\">\n",
       "      <th></th>\n",
       "      <th>Amount</th>\n",
       "    </tr>\n",
       "    <tr>\n",
       "      <th>Age</th>\n",
       "      <th></th>\n",
       "    </tr>\n",
       "  </thead>\n",
       "  <tbody>\n",
       "    <tr>\n",
       "      <th>28.00</th>\n",
       "      <td>17365270.23</td>\n",
       "    </tr>\n",
       "    <tr>\n",
       "      <th>46.49</th>\n",
       "      <td>15872551.38</td>\n",
       "    </tr>\n",
       "    <tr>\n",
       "      <th>78.00</th>\n",
       "      <td>12329508.54</td>\n",
       "    </tr>\n",
       "    <tr>\n",
       "      <th>37.00</th>\n",
       "      <td>9992645.71</td>\n",
       "    </tr>\n",
       "    <tr>\n",
       "      <th>25.00</th>\n",
       "      <td>9749700.72</td>\n",
       "    </tr>\n",
       "    <tr>\n",
       "      <th>51.00</th>\n",
       "      <td>9670808.79</td>\n",
       "    </tr>\n",
       "    <tr>\n",
       "      <th>47.00</th>\n",
       "      <td>9157809.12</td>\n",
       "    </tr>\n",
       "    <tr>\n",
       "      <th>44.00</th>\n",
       "      <td>9002326.39</td>\n",
       "    </tr>\n",
       "    <tr>\n",
       "      <th>29.00</th>\n",
       "      <td>8231607.26</td>\n",
       "    </tr>\n",
       "    <tr>\n",
       "      <th>50.00</th>\n",
       "      <td>8082803.39</td>\n",
       "    </tr>\n",
       "    <tr>\n",
       "      <th>67.00</th>\n",
       "      <td>7840760.08</td>\n",
       "    </tr>\n",
       "    <tr>\n",
       "      <th>21.00</th>\n",
       "      <td>7662247.39</td>\n",
       "    </tr>\n",
       "    <tr>\n",
       "      <th>24.00</th>\n",
       "      <td>6948235.19</td>\n",
       "    </tr>\n",
       "    <tr>\n",
       "      <th>38.00</th>\n",
       "      <td>6876389.81</td>\n",
       "    </tr>\n",
       "    <tr>\n",
       "      <th>36.00</th>\n",
       "      <td>6491191.06</td>\n",
       "    </tr>\n",
       "    <tr>\n",
       "      <th>60.00</th>\n",
       "      <td>6346711.02</td>\n",
       "    </tr>\n",
       "    <tr>\n",
       "      <th>72.00</th>\n",
       "      <td>6051138.76</td>\n",
       "    </tr>\n",
       "    <tr>\n",
       "      <th>35.00</th>\n",
       "      <td>5980154.00</td>\n",
       "    </tr>\n",
       "    <tr>\n",
       "      <th>52.00</th>\n",
       "      <td>5656608.44</td>\n",
       "    </tr>\n",
       "    <tr>\n",
       "      <th>43.00</th>\n",
       "      <td>5252438.32</td>\n",
       "    </tr>\n",
       "    <tr>\n",
       "      <th>76.00</th>\n",
       "      <td>5142702.76</td>\n",
       "    </tr>\n",
       "    <tr>\n",
       "      <th>39.00</th>\n",
       "      <td>4891474.75</td>\n",
       "    </tr>\n",
       "    <tr>\n",
       "      <th>54.00</th>\n",
       "      <td>4458771.82</td>\n",
       "    </tr>\n",
       "    <tr>\n",
       "      <th>46.00</th>\n",
       "      <td>4368194.79</td>\n",
       "    </tr>\n",
       "    <tr>\n",
       "      <th>41.00</th>\n",
       "      <td>3650955.67</td>\n",
       "    </tr>\n",
       "    <tr>\n",
       "      <th>63.00</th>\n",
       "      <td>3528482.07</td>\n",
       "    </tr>\n",
       "    <tr>\n",
       "      <th>27.00</th>\n",
       "      <td>1859124.07</td>\n",
       "    </tr>\n",
       "    <tr>\n",
       "      <th>34.00</th>\n",
       "      <td>1781962.38</td>\n",
       "    </tr>\n",
       "    <tr>\n",
       "      <th>61.00</th>\n",
       "      <td>1559253.89</td>\n",
       "    </tr>\n",
       "    <tr>\n",
       "      <th>49.00</th>\n",
       "      <td>1506267.31</td>\n",
       "    </tr>\n",
       "    <tr>\n",
       "      <th>53.00</th>\n",
       "      <td>1353183.28</td>\n",
       "    </tr>\n",
       "    <tr>\n",
       "      <th>77.00</th>\n",
       "      <td>1346771.77</td>\n",
       "    </tr>\n",
       "    <tr>\n",
       "      <th>71.00</th>\n",
       "      <td>1007945.92</td>\n",
       "    </tr>\n",
       "    <tr>\n",
       "      <th>74.00</th>\n",
       "      <td>1002195.63</td>\n",
       "    </tr>\n",
       "    <tr>\n",
       "      <th>32.00</th>\n",
       "      <td>992781.50</td>\n",
       "    </tr>\n",
       "    <tr>\n",
       "      <th>70.00</th>\n",
       "      <td>932200.20</td>\n",
       "    </tr>\n",
       "    <tr>\n",
       "      <th>79.00</th>\n",
       "      <td>904520.69</td>\n",
       "    </tr>\n",
       "    <tr>\n",
       "      <th>59.00</th>\n",
       "      <td>902108.49</td>\n",
       "    </tr>\n",
       "    <tr>\n",
       "      <th>69.00</th>\n",
       "      <td>871636.85</td>\n",
       "    </tr>\n",
       "    <tr>\n",
       "      <th>26.00</th>\n",
       "      <td>803699.35</td>\n",
       "    </tr>\n",
       "    <tr>\n",
       "      <th>55.00</th>\n",
       "      <td>757179.90</td>\n",
       "    </tr>\n",
       "    <tr>\n",
       "      <th>56.00</th>\n",
       "      <td>382522.09</td>\n",
       "    </tr>\n",
       "    <tr>\n",
       "      <th>31.00</th>\n",
       "      <td>312714.37</td>\n",
       "    </tr>\n",
       "    <tr>\n",
       "      <th>62.00</th>\n",
       "      <td>240401.50</td>\n",
       "    </tr>\n",
       "    <tr>\n",
       "      <th>65.00</th>\n",
       "      <td>175659.72</td>\n",
       "    </tr>\n",
       "    <tr>\n",
       "      <th>57.00</th>\n",
       "      <td>169992.36</td>\n",
       "    </tr>\n",
       "    <tr>\n",
       "      <th>42.00</th>\n",
       "      <td>155015.50</td>\n",
       "    </tr>\n",
       "    <tr>\n",
       "      <th>19.00</th>\n",
       "      <td>70014.00</td>\n",
       "    </tr>\n",
       "    <tr>\n",
       "      <th>75.00</th>\n",
       "      <td>47380.56</td>\n",
       "    </tr>\n",
       "    <tr>\n",
       "      <th>66.00</th>\n",
       "      <td>30066.44</td>\n",
       "    </tr>\n",
       "    <tr>\n",
       "      <th>33.00</th>\n",
       "      <td>10000.00</td>\n",
       "    </tr>\n",
       "    <tr>\n",
       "      <th>58.00</th>\n",
       "      <td>5000.00</td>\n",
       "    </tr>\n",
       "  </tbody>\n",
       "</table>\n",
       "</div>"
      ],
      "text/plain": [
       "            Amount\n",
       "Age               \n",
       "28.00  17365270.23\n",
       "46.49  15872551.38\n",
       "78.00  12329508.54\n",
       "37.00   9992645.71\n",
       "25.00   9749700.72\n",
       "51.00   9670808.79\n",
       "47.00   9157809.12\n",
       "44.00   9002326.39\n",
       "29.00   8231607.26\n",
       "50.00   8082803.39\n",
       "67.00   7840760.08\n",
       "21.00   7662247.39\n",
       "24.00   6948235.19\n",
       "38.00   6876389.81\n",
       "36.00   6491191.06\n",
       "60.00   6346711.02\n",
       "72.00   6051138.76\n",
       "35.00   5980154.00\n",
       "52.00   5656608.44\n",
       "43.00   5252438.32\n",
       "76.00   5142702.76\n",
       "39.00   4891474.75\n",
       "54.00   4458771.82\n",
       "46.00   4368194.79\n",
       "41.00   3650955.67\n",
       "63.00   3528482.07\n",
       "27.00   1859124.07\n",
       "34.00   1781962.38\n",
       "61.00   1559253.89\n",
       "49.00   1506267.31\n",
       "53.00   1353183.28\n",
       "77.00   1346771.77\n",
       "71.00   1007945.92\n",
       "74.00   1002195.63\n",
       "32.00    992781.50\n",
       "70.00    932200.20\n",
       "79.00    904520.69\n",
       "59.00    902108.49\n",
       "69.00    871636.85\n",
       "26.00    803699.35\n",
       "55.00    757179.90\n",
       "56.00    382522.09\n",
       "31.00    312714.37\n",
       "62.00    240401.50\n",
       "65.00    175659.72\n",
       "57.00    169992.36\n",
       "42.00    155015.50\n",
       "19.00     70014.00\n",
       "75.00     47380.56\n",
       "66.00     30066.44\n",
       "33.00     10000.00\n",
       "58.00      5000.00"
      ]
     },
     "execution_count": 123,
     "metadata": {},
     "output_type": "execute_result"
    }
   ],
   "source": [
    "a.pivot_table(index='Age', values='Amount', aggfunc=sum).sort_values(by = \"Amount\", ascending=False)"
   ]
  },
  {
   "cell_type": "markdown",
   "id": "f0659797-930c-4a1b-b02c-209d3f9bd244",
   "metadata": {},
   "source": [
    "Top 10 customers in terms of repayment"
   ]
  },
  {
   "cell_type": "code",
   "execution_count": 115,
   "id": "d14a7221-b9f0-4d00-bf81-7c949161d08c",
   "metadata": {
    "scrolled": true
   },
   "outputs": [
    {
     "data": {
      "text/plain": [
       "Customer\n",
       "A61    10539142.91\n",
       "A60     9876290.74\n",
       "A13     9572000.66\n",
       "A43     8489871.46\n",
       "A45     8448334.87\n",
       "A12     8334760.16\n",
       "A14     7943268.63\n",
       "A44     7744730.12\n",
       "A39     7622483.30\n",
       "A42     7615460.86\n",
       "Name: Amount, dtype: float64"
      ]
     },
     "execution_count": 115,
     "metadata": {},
     "output_type": "execute_result"
    }
   ],
   "source": [
    "b.groupby(by = ['Customer'])['Amount'].sum().sort_values(ascending=False).head(10)"
   ]
  },
  {
   "cell_type": "code",
   "execution_count": null,
   "id": "82bdbf31-ba4b-4632-a199-a6843f064230",
   "metadata": {},
   "outputs": [],
   "source": []
  },
  {
   "cell_type": "markdown",
   "id": "f183bbce-d84f-4b65-9945-35fc939e3173",
   "metadata": {},
   "source": [
    "Calculate the city wise spend on each product on yearly basis. Also include a graphical \n",
    "representation for the same."
   ]
  },
  {
   "cell_type": "code",
   "execution_count": 125,
   "id": "925f959c-a0fc-41b2-9f17-f58141e099dd",
   "metadata": {},
   "outputs": [
    {
     "name": "stderr",
     "output_type": "stream",
     "text": [
      "C:\\Users\\ANIL KUMAR\\AppData\\Local\\Temp\\ipykernel_24004\\3128890225.py:1: FutureWarning: The provided callable <built-in function sum> is currently using DataFrameGroupBy.sum. In a future version of pandas, the provided callable will be used directly. To keep current behavior pass the string \"sum\" instead.\n",
      "  cws = a.pivot_table(index='City', columns=a.Month.dt.year, values='Amount', aggfunc=sum)\n"
     ]
    }
   ],
   "source": [
    "cws = a.pivot_table(index='City', columns=a.Month.dt.year, values='Amount', aggfunc=sum)"
   ]
  },
  {
   "cell_type": "code",
   "execution_count": 133,
   "id": "a9c48df5-4af3-480b-bcc9-30fb67daa9fb",
   "metadata": {},
   "outputs": [],
   "source": [
    "cws = cws.rename_axis(None, axis=1).reset_index()"
   ]
  },
  {
   "cell_type": "code",
   "execution_count": 135,
   "id": "d17fa4db-7943-4fa9-8de8-012a0511f319",
   "metadata": {
    "scrolled": true
   },
   "outputs": [
    {
     "data": {
      "text/html": [
       "<div>\n",
       "<style scoped>\n",
       "    .dataframe tbody tr th:only-of-type {\n",
       "        vertical-align: middle;\n",
       "    }\n",
       "\n",
       "    .dataframe tbody tr th {\n",
       "        vertical-align: top;\n",
       "    }\n",
       "\n",
       "    .dataframe thead th {\n",
       "        text-align: right;\n",
       "    }\n",
       "</style>\n",
       "<table border=\"1\" class=\"dataframe\">\n",
       "  <thead>\n",
       "    <tr style=\"text-align: right;\">\n",
       "      <th></th>\n",
       "      <th>City</th>\n",
       "      <th>2004</th>\n",
       "      <th>2005</th>\n",
       "      <th>2006</th>\n",
       "    </tr>\n",
       "  </thead>\n",
       "  <tbody>\n",
       "    <tr>\n",
       "      <th>0</th>\n",
       "      <td>BANGALORE</td>\n",
       "      <td>11694463.42</td>\n",
       "      <td>14635260.30</td>\n",
       "      <td>14131923.30</td>\n",
       "    </tr>\n",
       "    <tr>\n",
       "      <th>1</th>\n",
       "      <td>BOMBAY</td>\n",
       "      <td>8417207.50</td>\n",
       "      <td>10203811.76</td>\n",
       "      <td>9982108.12</td>\n",
       "    </tr>\n",
       "    <tr>\n",
       "      <th>2</th>\n",
       "      <td>CALCUTTA</td>\n",
       "      <td>10014837.28</td>\n",
       "      <td>15178199.17</td>\n",
       "      <td>15915095.85</td>\n",
       "    </tr>\n",
       "    <tr>\n",
       "      <th>3</th>\n",
       "      <td>CHENNAI</td>\n",
       "      <td>4877327.74</td>\n",
       "      <td>9172086.39</td>\n",
       "      <td>8079221.52</td>\n",
       "    </tr>\n",
       "    <tr>\n",
       "      <th>4</th>\n",
       "      <td>COCHIN</td>\n",
       "      <td>11549983.84</td>\n",
       "      <td>17723804.12</td>\n",
       "      <td>16689725.54</td>\n",
       "    </tr>\n",
       "    <tr>\n",
       "      <th>5</th>\n",
       "      <td>DELHI</td>\n",
       "      <td>3858180.19</td>\n",
       "      <td>3071314.34</td>\n",
       "      <td>3988792.01</td>\n",
       "    </tr>\n",
       "    <tr>\n",
       "      <th>6</th>\n",
       "      <td>PATNA</td>\n",
       "      <td>3942321.60</td>\n",
       "      <td>7085941.03</td>\n",
       "      <td>4232324.34</td>\n",
       "    </tr>\n",
       "    <tr>\n",
       "      <th>7</th>\n",
       "      <td>TRIVANDRUM</td>\n",
       "      <td>4786446.99</td>\n",
       "      <td>5111732.14</td>\n",
       "      <td>5438976.74</td>\n",
       "    </tr>\n",
       "  </tbody>\n",
       "</table>\n",
       "</div>"
      ],
      "text/plain": [
       "         City         2004         2005         2006\n",
       "0   BANGALORE  11694463.42  14635260.30  14131923.30\n",
       "1      BOMBAY   8417207.50  10203811.76   9982108.12\n",
       "2    CALCUTTA  10014837.28  15178199.17  15915095.85\n",
       "3     CHENNAI   4877327.74   9172086.39   8079221.52\n",
       "4      COCHIN  11549983.84  17723804.12  16689725.54\n",
       "5       DELHI   3858180.19   3071314.34   3988792.01\n",
       "6       PATNA   3942321.60   7085941.03   4232324.34\n",
       "7  TRIVANDRUM   4786446.99   5111732.14   5438976.74"
      ]
     },
     "execution_count": 135,
     "metadata": {},
     "output_type": "execute_result"
    }
   ],
   "source": [
    "cws"
   ]
  },
  {
   "cell_type": "code",
   "execution_count": null,
   "id": "87a9a44a-cefc-4887-b084-703cdfcb796d",
   "metadata": {},
   "outputs": [],
   "source": []
  },
  {
   "cell_type": "markdown",
   "id": "c25d69ed-5d30-4de1-a4b7-2176eae84165",
   "metadata": {},
   "source": [
    " Monthly comparison of total spends, city wise"
   ]
  },
  {
   "cell_type": "code",
   "execution_count": 167,
   "id": "cb77abe5-1fcc-4750-8452-18e74cab6496",
   "metadata": {},
   "outputs": [
    {
     "name": "stderr",
     "output_type": "stream",
     "text": [
      "C:\\Users\\ANIL KUMAR\\AppData\\Local\\Temp\\ipykernel_24004\\1825105072.py:1: FutureWarning: The provided callable <built-in function sum> is currently using DataFrameGroupBy.sum. In a future version of pandas, the provided callable will be used directly. To keep current behavior pass the string \"sum\" instead.\n",
      "  msc = a.pivot_table(index= a['Month'].dt.month, columns='City', values='Amount', aggfunc=sum).reset_index()\n"
     ]
    }
   ],
   "source": [
    "msc = a.pivot_table(index= a['Month'].dt.month, columns='City', values='Amount', aggfunc=sum).reset_index()"
   ]
  },
  {
   "cell_type": "code",
   "execution_count": 201,
   "id": "aa5f9199-75a7-453f-850c-a575b8f04089",
   "metadata": {},
   "outputs": [],
   "source": [
    "msc.reset_index(drop=True, inplace=True)"
   ]
  },
  {
   "cell_type": "code",
   "execution_count": 197,
   "id": "176a81c6-b651-475b-8dbf-350d376b317f",
   "metadata": {},
   "outputs": [],
   "source": [
    "msc.columns.name = None"
   ]
  },
  {
   "cell_type": "code",
   "execution_count": 203,
   "id": "320ff099-0551-47bb-8491-124e94b2a739",
   "metadata": {
    "scrolled": true
   },
   "outputs": [
    {
     "data": {
      "text/html": [
       "<div>\n",
       "<style scoped>\n",
       "    .dataframe tbody tr th:only-of-type {\n",
       "        vertical-align: middle;\n",
       "    }\n",
       "\n",
       "    .dataframe tbody tr th {\n",
       "        vertical-align: top;\n",
       "    }\n",
       "\n",
       "    .dataframe thead th {\n",
       "        text-align: right;\n",
       "    }\n",
       "</style>\n",
       "<table border=\"1\" class=\"dataframe\">\n",
       "  <thead>\n",
       "    <tr style=\"text-align: right;\">\n",
       "      <th></th>\n",
       "      <th>Month</th>\n",
       "      <th>BANGALORE</th>\n",
       "      <th>BOMBAY</th>\n",
       "      <th>CALCUTTA</th>\n",
       "      <th>CHENNAI</th>\n",
       "      <th>COCHIN</th>\n",
       "      <th>DELHI</th>\n",
       "      <th>PATNA</th>\n",
       "      <th>TRIVANDRUM</th>\n",
       "    </tr>\n",
       "  </thead>\n",
       "  <tbody>\n",
       "    <tr>\n",
       "      <th>0</th>\n",
       "      <td>1</td>\n",
       "      <td>9041796.84</td>\n",
       "      <td>5948993.33</td>\n",
       "      <td>9064864.90</td>\n",
       "      <td>4466961.36</td>\n",
       "      <td>11714373.54</td>\n",
       "      <td>2714261.45</td>\n",
       "      <td>4916205.55</td>\n",
       "      <td>3704336.99</td>\n",
       "    </tr>\n",
       "    <tr>\n",
       "      <th>1</th>\n",
       "      <td>2</td>\n",
       "      <td>6734494.76</td>\n",
       "      <td>4276988.30</td>\n",
       "      <td>8150545.61</td>\n",
       "      <td>4385815.95</td>\n",
       "      <td>5747886.38</td>\n",
       "      <td>1494064.06</td>\n",
       "      <td>2353333.55</td>\n",
       "      <td>2857123.89</td>\n",
       "    </tr>\n",
       "    <tr>\n",
       "      <th>2</th>\n",
       "      <td>3</td>\n",
       "      <td>5362903.07</td>\n",
       "      <td>5227850.50</td>\n",
       "      <td>4939040.04</td>\n",
       "      <td>3183643.71</td>\n",
       "      <td>5645146.53</td>\n",
       "      <td>2267149.02</td>\n",
       "      <td>1437166.61</td>\n",
       "      <td>2392316.51</td>\n",
       "    </tr>\n",
       "    <tr>\n",
       "      <th>3</th>\n",
       "      <td>4</td>\n",
       "      <td>4207980.48</td>\n",
       "      <td>1873785.01</td>\n",
       "      <td>3457507.95</td>\n",
       "      <td>2518656.99</td>\n",
       "      <td>3882744.94</td>\n",
       "      <td>777240.75</td>\n",
       "      <td>2338179.53</td>\n",
       "      <td>1199293.45</td>\n",
       "    </tr>\n",
       "    <tr>\n",
       "      <th>4</th>\n",
       "      <td>5</td>\n",
       "      <td>6383115.13</td>\n",
       "      <td>3891945.60</td>\n",
       "      <td>5578246.87</td>\n",
       "      <td>2856199.62</td>\n",
       "      <td>6581085.69</td>\n",
       "      <td>1600322.07</td>\n",
       "      <td>2136586.80</td>\n",
       "      <td>2813534.48</td>\n",
       "    </tr>\n",
       "    <tr>\n",
       "      <th>5</th>\n",
       "      <td>6</td>\n",
       "      <td>1330685.90</td>\n",
       "      <td>1172594.97</td>\n",
       "      <td>2293045.81</td>\n",
       "      <td>1244242.16</td>\n",
       "      <td>2495745.07</td>\n",
       "      <td>511276.09</td>\n",
       "      <td>746186.13</td>\n",
       "      <td>400336.83</td>\n",
       "    </tr>\n",
       "    <tr>\n",
       "      <th>6</th>\n",
       "      <td>7</td>\n",
       "      <td>2228217.69</td>\n",
       "      <td>177726.32</td>\n",
       "      <td>2234573.27</td>\n",
       "      <td>693825.77</td>\n",
       "      <td>1290897.30</td>\n",
       "      <td>50001.50</td>\n",
       "      <td>50000.00</td>\n",
       "      <td>260484.50</td>\n",
       "    </tr>\n",
       "    <tr>\n",
       "      <th>7</th>\n",
       "      <td>8</td>\n",
       "      <td>695061.95</td>\n",
       "      <td>1066744.75</td>\n",
       "      <td>1548354.02</td>\n",
       "      <td>305875.97</td>\n",
       "      <td>2317306.61</td>\n",
       "      <td>155402.16</td>\n",
       "      <td>419383.64</td>\n",
       "      <td>453773.94</td>\n",
       "    </tr>\n",
       "    <tr>\n",
       "      <th>8</th>\n",
       "      <td>9</td>\n",
       "      <td>703018.28</td>\n",
       "      <td>1278402.79</td>\n",
       "      <td>1511713.57</td>\n",
       "      <td>745759.40</td>\n",
       "      <td>1382242.90</td>\n",
       "      <td>50001.00</td>\n",
       "      <td>70329.95</td>\n",
       "      <td>186063.70</td>\n",
       "    </tr>\n",
       "    <tr>\n",
       "      <th>9</th>\n",
       "      <td>10</td>\n",
       "      <td>1091602.61</td>\n",
       "      <td>676005.70</td>\n",
       "      <td>196357.83</td>\n",
       "      <td>156247.17</td>\n",
       "      <td>868551.89</td>\n",
       "      <td>64615.46</td>\n",
       "      <td>329537.34</td>\n",
       "      <td>285581.92</td>\n",
       "    </tr>\n",
       "    <tr>\n",
       "      <th>10</th>\n",
       "      <td>11</td>\n",
       "      <td>2260603.07</td>\n",
       "      <td>2872049.40</td>\n",
       "      <td>2078880.93</td>\n",
       "      <td>1347779.28</td>\n",
       "      <td>3127999.60</td>\n",
       "      <td>391610.96</td>\n",
       "      <td>413677.87</td>\n",
       "      <td>143387.40</td>\n",
       "    </tr>\n",
       "    <tr>\n",
       "      <th>11</th>\n",
       "      <td>12</td>\n",
       "      <td>422167.24</td>\n",
       "      <td>140040.71</td>\n",
       "      <td>55001.50</td>\n",
       "      <td>223628.27</td>\n",
       "      <td>909533.05</td>\n",
       "      <td>842342.02</td>\n",
       "      <td>50000.00</td>\n",
       "      <td>640922.26</td>\n",
       "    </tr>\n",
       "  </tbody>\n",
       "</table>\n",
       "</div>"
      ],
      "text/plain": [
       "    Month   BANGALORE      BOMBAY    CALCUTTA     CHENNAI       COCHIN  \\\n",
       "0       1  9041796.84  5948993.33  9064864.90  4466961.36  11714373.54   \n",
       "1       2  6734494.76  4276988.30  8150545.61  4385815.95   5747886.38   \n",
       "2       3  5362903.07  5227850.50  4939040.04  3183643.71   5645146.53   \n",
       "3       4  4207980.48  1873785.01  3457507.95  2518656.99   3882744.94   \n",
       "4       5  6383115.13  3891945.60  5578246.87  2856199.62   6581085.69   \n",
       "5       6  1330685.90  1172594.97  2293045.81  1244242.16   2495745.07   \n",
       "6       7  2228217.69   177726.32  2234573.27   693825.77   1290897.30   \n",
       "7       8   695061.95  1066744.75  1548354.02   305875.97   2317306.61   \n",
       "8       9   703018.28  1278402.79  1511713.57   745759.40   1382242.90   \n",
       "9      10  1091602.61   676005.70   196357.83   156247.17    868551.89   \n",
       "10     11  2260603.07  2872049.40  2078880.93  1347779.28   3127999.60   \n",
       "11     12   422167.24   140040.71    55001.50   223628.27    909533.05   \n",
       "\n",
       "         DELHI       PATNA  TRIVANDRUM  \n",
       "0   2714261.45  4916205.55  3704336.99  \n",
       "1   1494064.06  2353333.55  2857123.89  \n",
       "2   2267149.02  1437166.61  2392316.51  \n",
       "3    777240.75  2338179.53  1199293.45  \n",
       "4   1600322.07  2136586.80  2813534.48  \n",
       "5    511276.09   746186.13   400336.83  \n",
       "6     50001.50    50000.00   260484.50  \n",
       "7    155402.16   419383.64   453773.94  \n",
       "8     50001.00    70329.95   186063.70  \n",
       "9     64615.46   329537.34   285581.92  \n",
       "10   391610.96   413677.87   143387.40  \n",
       "11   842342.02    50000.00   640922.26  "
      ]
     },
     "execution_count": 203,
     "metadata": {},
     "output_type": "execute_result"
    }
   ],
   "source": [
    "msc"
   ]
  },
  {
   "cell_type": "code",
   "execution_count": 223,
   "id": "5ab5d954-d6e4-4083-bdb1-4d7890a371b3",
   "metadata": {},
   "outputs": [
    {
     "data": {
      "image/png": "[encoded data removed]",
      "text/plain": [
       "<Figure size 640x480 with 1 Axes>"
      ]
     },
     "metadata": {},
     "output_type": "display_data"
    }
   ],
   "source": [
    "msc.plot(kind='line')\n",
    "plt.show()"
   ]
  },
  {
   "cell_type": "code",
   "execution_count": null,
   "id": "f99eec78-9e15-439a-b36a-4716932117cd",
   "metadata": {},
   "outputs": [],
   "source": []
  },
  {
   "cell_type": "markdown",
   "id": "7a780300-9f0d-40cd-99b7-94a97fb2d1e7",
   "metadata": {},
   "source": [
    "Comparison of yearly spend on air tickets"
   ]
  },
  {
   "cell_type": "code",
   "execution_count": 151,
   "id": "84e76428-c14f-46ed-99c4-a7b1163e5dbd",
   "metadata": {
    "scrolled": true
   },
   "outputs": [
    {
     "data": {
      "text/html": [
       "<div>\n",
       "<style scoped>\n",
       "    .dataframe tbody tr th:only-of-type {\n",
       "        vertical-align: middle;\n",
       "    }\n",
       "\n",
       "    .dataframe tbody tr th {\n",
       "        vertical-align: top;\n",
       "    }\n",
       "\n",
       "    .dataframe thead th {\n",
       "        text-align: right;\n",
       "    }\n",
       "</style>\n",
       "<table border=\"1\" class=\"dataframe\">\n",
       "  <thead>\n",
       "    <tr style=\"text-align: right;\">\n",
       "      <th></th>\n",
       "      <th>No</th>\n",
       "      <th>Customer</th>\n",
       "      <th>Age</th>\n",
       "      <th>City</th>\n",
       "      <th>Product</th>\n",
       "      <th>Limit</th>\n",
       "      <th>Company</th>\n",
       "      <th>Segment</th>\n",
       "      <th>Sl No:</th>\n",
       "      <th>Month</th>\n",
       "      <th>Type</th>\n",
       "      <th>Amount</th>\n",
       "    </tr>\n",
       "  </thead>\n",
       "  <tbody>\n",
       "    <tr>\n",
       "      <th>9</th>\n",
       "      <td>1</td>\n",
       "      <td>A1</td>\n",
       "      <td>76.0</td>\n",
       "      <td>BANGALORE</td>\n",
       "      <td>Gold</td>\n",
       "      <td>500000.0</td>\n",
       "      <td>C1</td>\n",
       "      <td>Self Employed</td>\n",
       "      <td>131</td>\n",
       "      <td>2006-04-19</td>\n",
       "      <td>AIR TICKET</td>\n",
       "      <td>346925.68</td>\n",
       "    </tr>\n",
       "    <tr>\n",
       "      <th>63</th>\n",
       "      <td>5</td>\n",
       "      <td>A5</td>\n",
       "      <td>56.0</td>\n",
       "      <td>BANGALORE</td>\n",
       "      <td>Platimum</td>\n",
       "      <td>10002.0</td>\n",
       "      <td>C5</td>\n",
       "      <td>Normal Salary</td>\n",
       "      <td>275</td>\n",
       "      <td>2006-03-03</td>\n",
       "      <td>AIR TICKET</td>\n",
       "      <td>5001.00</td>\n",
       "    </tr>\n",
       "    <tr>\n",
       "      <th>80</th>\n",
       "      <td>6</td>\n",
       "      <td>A6</td>\n",
       "      <td>70.0</td>\n",
       "      <td>DELHI</td>\n",
       "      <td>Silver</td>\n",
       "      <td>100000.0</td>\n",
       "      <td>C6</td>\n",
       "      <td>Self Employed</td>\n",
       "      <td>276</td>\n",
       "      <td>2006-04-03</td>\n",
       "      <td>AIR TICKET</td>\n",
       "      <td>50000.00</td>\n",
       "    </tr>\n",
       "    <tr>\n",
       "      <th>97</th>\n",
       "      <td>7</td>\n",
       "      <td>A7</td>\n",
       "      <td>26.0</td>\n",
       "      <td>COCHIN</td>\n",
       "      <td>Silver</td>\n",
       "      <td>100001.0</td>\n",
       "      <td>C7</td>\n",
       "      <td>Salaried_MNC</td>\n",
       "      <td>277</td>\n",
       "      <td>2006-05-03</td>\n",
       "      <td>AIR TICKET</td>\n",
       "      <td>50000.50</td>\n",
       "    </tr>\n",
       "    <tr>\n",
       "      <th>115</th>\n",
       "      <td>8</td>\n",
       "      <td>A8</td>\n",
       "      <td>67.0</td>\n",
       "      <td>PATNA</td>\n",
       "      <td>Silver</td>\n",
       "      <td>100002.0</td>\n",
       "      <td>C8</td>\n",
       "      <td>Salaried_Pvt</td>\n",
       "      <td>278</td>\n",
       "      <td>2006-06-03</td>\n",
       "      <td>AIR TICKET</td>\n",
       "      <td>50001.00</td>\n",
       "    </tr>\n",
       "    <tr>\n",
       "      <th>...</th>\n",
       "      <td>...</td>\n",
       "      <td>...</td>\n",
       "      <td>...</td>\n",
       "      <td>...</td>\n",
       "      <td>...</td>\n",
       "      <td>...</td>\n",
       "      <td>...</td>\n",
       "      <td>...</td>\n",
       "      <td>...</td>\n",
       "      <td>...</td>\n",
       "      <td>...</td>\n",
       "      <td>...</td>\n",
       "    </tr>\n",
       "    <tr>\n",
       "      <th>1474</th>\n",
       "      <td>75</td>\n",
       "      <td>A75</td>\n",
       "      <td>36.0</td>\n",
       "      <td>BOMBAY</td>\n",
       "      <td>Silver</td>\n",
       "      <td>100003.0</td>\n",
       "      <td>C37</td>\n",
       "      <td>Self Employed</td>\n",
       "      <td>77</td>\n",
       "      <td>2005-02-23</td>\n",
       "      <td>AIR TICKET</td>\n",
       "      <td>50001.50</td>\n",
       "    </tr>\n",
       "    <tr>\n",
       "      <th>1475</th>\n",
       "      <td>76</td>\n",
       "      <td>A76</td>\n",
       "      <td>66.0</td>\n",
       "      <td>BANGALORE</td>\n",
       "      <td>Silver</td>\n",
       "      <td>500000.0</td>\n",
       "      <td>C38</td>\n",
       "      <td>Self Employed</td>\n",
       "      <td>78</td>\n",
       "      <td>2005-02-03</td>\n",
       "      <td>AIR TICKET</td>\n",
       "      <td>30066.44</td>\n",
       "    </tr>\n",
       "    <tr>\n",
       "      <th>1476</th>\n",
       "      <td>77</td>\n",
       "      <td>A77</td>\n",
       "      <td>35.0</td>\n",
       "      <td>BANGALORE</td>\n",
       "      <td>Silver</td>\n",
       "      <td>500000.0</td>\n",
       "      <td>C39</td>\n",
       "      <td>Self Employed</td>\n",
       "      <td>79</td>\n",
       "      <td>2006-02-04</td>\n",
       "      <td>AIR TICKET</td>\n",
       "      <td>31048.93</td>\n",
       "    </tr>\n",
       "    <tr>\n",
       "      <th>1483</th>\n",
       "      <td>84</td>\n",
       "      <td>A84</td>\n",
       "      <td>70.0</td>\n",
       "      <td>PATNA</td>\n",
       "      <td>Silver</td>\n",
       "      <td>100000.0</td>\n",
       "      <td>C7</td>\n",
       "      <td>Govt</td>\n",
       "      <td>86</td>\n",
       "      <td>2006-03-27</td>\n",
       "      <td>AIR TICKET</td>\n",
       "      <td>50000.00</td>\n",
       "    </tr>\n",
       "    <tr>\n",
       "      <th>1498</th>\n",
       "      <td>99</td>\n",
       "      <td>A99</td>\n",
       "      <td>35.0</td>\n",
       "      <td>CALCUTTA</td>\n",
       "      <td>Platimum</td>\n",
       "      <td>10002.0</td>\n",
       "      <td>C22</td>\n",
       "      <td>Self Employed</td>\n",
       "      <td>101</td>\n",
       "      <td>2004-01-15</td>\n",
       "      <td>AIR TICKET</td>\n",
       "      <td>5001.00</td>\n",
       "    </tr>\n",
       "  </tbody>\n",
       "</table>\n",
       "<p>147 rows × 12 columns</p>\n",
       "</div>"
      ],
      "text/plain": [
       "      No Customer   Age       City   Product     Limit Company        Segment  \\\n",
       "9      1       A1  76.0  BANGALORE      Gold  500000.0      C1  Self Employed   \n",
       "63     5       A5  56.0  BANGALORE  Platimum   10002.0      C5  Normal Salary   \n",
       "80     6       A6  70.0      DELHI    Silver  100000.0      C6  Self Employed   \n",
       "97     7       A7  26.0     COCHIN    Silver  100001.0      C7   Salaried_MNC   \n",
       "115    8       A8  67.0      PATNA    Silver  100002.0      C8   Salaried_Pvt   \n",
       "...   ..      ...   ...        ...       ...       ...     ...            ...   \n",
       "1474  75      A75  36.0     BOMBAY    Silver  100003.0     C37  Self Employed   \n",
       "1475  76      A76  66.0  BANGALORE    Silver  500000.0     C38  Self Employed   \n",
       "1476  77      A77  35.0  BANGALORE    Silver  500000.0     C39  Self Employed   \n",
       "1483  84      A84  70.0      PATNA    Silver  100000.0      C7           Govt   \n",
       "1498  99      A99  35.0   CALCUTTA  Platimum   10002.0     C22  Self Employed   \n",
       "\n",
       "      Sl No:      Month        Type     Amount  \n",
       "9        131 2006-04-19  AIR TICKET  346925.68  \n",
       "63       275 2006-03-03  AIR TICKET    5001.00  \n",
       "80       276 2006-04-03  AIR TICKET   50000.00  \n",
       "97       277 2006-05-03  AIR TICKET   50000.50  \n",
       "115      278 2006-06-03  AIR TICKET   50001.00  \n",
       "...      ...        ...         ...        ...  \n",
       "1474      77 2005-02-23  AIR TICKET   50001.50  \n",
       "1475      78 2005-02-03  AIR TICKET   30066.44  \n",
       "1476      79 2006-02-04  AIR TICKET   31048.93  \n",
       "1483      86 2006-03-27  AIR TICKET   50000.00  \n",
       "1498     101 2004-01-15  AIR TICKET    5001.00  \n",
       "\n",
       "[147 rows x 12 columns]"
      ]
     },
     "execution_count": 151,
     "metadata": {},
     "output_type": "execute_result"
    }
   ],
   "source": [
    "a[a['Type'] == 'AIR TICKET']"
   ]
  },
  {
   "cell_type": "code",
   "execution_count": 213,
   "id": "dd7e9602-c28b-4a52-861f-e89fb082273a",
   "metadata": {
    "scrolled": true
   },
   "outputs": [
    {
     "data": {
      "image/png": "[encoded data removed]",
      "text/plain": [
       "<Figure size 640x480 with 1 Axes>"
      ]
     },
     "metadata": {},
     "output_type": "display_data"
    }
   ],
   "source": [
    "a[a['Type'] == 'AIR TICKET'].groupby(by = [a['Month'].dt.year,'Type'])['Amount'].sum().plot(kind = 'barh')\n",
    "plt.show()"
   ]
  },
  {
   "cell_type": "code",
   "execution_count": null,
   "id": "bacec792-8842-4352-a269-09a163974fdb",
   "metadata": {},
   "outputs": [],
   "source": []
  },
  {
   "cell_type": "markdown",
   "id": "377f515c-36c7-402a-af58-8cc0e654e6ac",
   "metadata": {},
   "source": [
    " Comparison of monthly spend for each product (look for any seasonality\n",
    " that exists in terms of spend)"
   ]
  },
  {
   "cell_type": "code",
   "execution_count": 189,
   "id": "66009315-3e73-44c2-8e84-5de127f86e5e",
   "metadata": {},
   "outputs": [
    {
     "name": "stderr",
     "output_type": "stream",
     "text": [
      "C:\\Users\\ANIL KUMAR\\AppData\\Local\\Temp\\ipykernel_24004\\450962286.py:1: FutureWarning: The provided callable <built-in function sum> is currently using DataFrameGroupBy.sum. In a future version of pandas, the provided callable will be used directly. To keep current behavior pass the string \"sum\" instead.\n",
      "  mps = a.pivot_table(index=a.Month.dt.month, columns='Product', values='Amount', aggfunc=sum).reset_index()\n"
     ]
    }
   ],
   "source": [
    "mps = a.pivot_table(index=a.Month.dt.month, columns='Product', values='Amount', aggfunc=sum).reset_index()"
   ]
  },
  {
   "cell_type": "code",
   "execution_count": 191,
   "id": "ae648fbd-e084-4d27-89cb-b66dea2e3137",
   "metadata": {
    "scrolled": true
   },
   "outputs": [
    {
     "data": {
      "text/html": [
       "<div>\n",
       "<style scoped>\n",
       "    .dataframe tbody tr th:only-of-type {\n",
       "        vertical-align: middle;\n",
       "    }\n",
       "\n",
       "    .dataframe tbody tr th {\n",
       "        vertical-align: top;\n",
       "    }\n",
       "\n",
       "    .dataframe thead th {\n",
       "        text-align: right;\n",
       "    }\n",
       "</style>\n",
       "<table border=\"1\" class=\"dataframe\">\n",
       "  <thead>\n",
       "    <tr style=\"text-align: right;\">\n",
       "      <th>Product</th>\n",
       "      <th>Month</th>\n",
       "      <th>Gold</th>\n",
       "      <th>Platimum</th>\n",
       "      <th>Silver</th>\n",
       "    </tr>\n",
       "  </thead>\n",
       "  <tbody>\n",
       "    <tr>\n",
       "      <th>0</th>\n",
       "      <td>1</td>\n",
       "      <td>32413831.83</td>\n",
       "      <td>14951578.51</td>\n",
       "      <td>4206383.62</td>\n",
       "    </tr>\n",
       "    <tr>\n",
       "      <th>1</th>\n",
       "      <td>2</td>\n",
       "      <td>24779179.55</td>\n",
       "      <td>9134054.58</td>\n",
       "      <td>2087018.37</td>\n",
       "    </tr>\n",
       "    <tr>\n",
       "      <th>2</th>\n",
       "      <td>3</td>\n",
       "      <td>19256972.48</td>\n",
       "      <td>7288837.68</td>\n",
       "      <td>3909405.83</td>\n",
       "    </tr>\n",
       "    <tr>\n",
       "      <th>3</th>\n",
       "      <td>4</td>\n",
       "      <td>13170572.59</td>\n",
       "      <td>5182493.86</td>\n",
       "      <td>1902322.65</td>\n",
       "    </tr>\n",
       "    <tr>\n",
       "      <th>4</th>\n",
       "      <td>5</td>\n",
       "      <td>21548169.76</td>\n",
       "      <td>8151926.49</td>\n",
       "      <td>2140940.01</td>\n",
       "    </tr>\n",
       "    <tr>\n",
       "      <th>5</th>\n",
       "      <td>6</td>\n",
       "      <td>6538862.64</td>\n",
       "      <td>2965712.71</td>\n",
       "      <td>689537.61</td>\n",
       "    </tr>\n",
       "    <tr>\n",
       "      <th>6</th>\n",
       "      <td>7</td>\n",
       "      <td>5167416.37</td>\n",
       "      <td>1288156.26</td>\n",
       "      <td>530153.72</td>\n",
       "    </tr>\n",
       "    <tr>\n",
       "      <th>7</th>\n",
       "      <td>8</td>\n",
       "      <td>4954030.42</td>\n",
       "      <td>1714762.80</td>\n",
       "      <td>293109.82</td>\n",
       "    </tr>\n",
       "    <tr>\n",
       "      <th>8</th>\n",
       "      <td>9</td>\n",
       "      <td>3816887.62</td>\n",
       "      <td>1667840.84</td>\n",
       "      <td>442803.13</td>\n",
       "    </tr>\n",
       "    <tr>\n",
       "      <th>9</th>\n",
       "      <td>10</td>\n",
       "      <td>3018223.38</td>\n",
       "      <td>550275.04</td>\n",
       "      <td>100001.50</td>\n",
       "    </tr>\n",
       "    <tr>\n",
       "      <th>10</th>\n",
       "      <td>11</td>\n",
       "      <td>9203267.46</td>\n",
       "      <td>2741618.42</td>\n",
       "      <td>691102.63</td>\n",
       "    </tr>\n",
       "    <tr>\n",
       "      <th>11</th>\n",
       "      <td>12</td>\n",
       "      <td>2332940.96</td>\n",
       "      <td>750156.19</td>\n",
       "      <td>200537.90</td>\n",
       "    </tr>\n",
       "  </tbody>\n",
       "</table>\n",
       "</div>"
      ],
      "text/plain": [
       "Product  Month         Gold     Platimum      Silver\n",
       "0            1  32413831.83  14951578.51  4206383.62\n",
       "1            2  24779179.55   9134054.58  2087018.37\n",
       "2            3  19256972.48   7288837.68  3909405.83\n",
       "3            4  13170572.59   5182493.86  1902322.65\n",
       "4            5  21548169.76   8151926.49  2140940.01\n",
       "5            6   6538862.64   2965712.71   689537.61\n",
       "6            7   5167416.37   1288156.26   530153.72\n",
       "7            8   4954030.42   1714762.80   293109.82\n",
       "8            9   3816887.62   1667840.84   442803.13\n",
       "9           10   3018223.38    550275.04   100001.50\n",
       "10          11   9203267.46   2741618.42   691102.63\n",
       "11          12   2332940.96    750156.19   200537.90"
      ]
     },
     "execution_count": 191,
     "metadata": {},
     "output_type": "execute_result"
    }
   ],
   "source": [
    "mps"
   ]
  },
  {
   "cell_type": "code",
   "execution_count": 205,
   "id": "d3a02e55-6402-40da-9148-92a3ada21a3f",
   "metadata": {},
   "outputs": [],
   "source": [
    "mps.columns_name = None"
   ]
  },
  {
   "cell_type": "code",
   "execution_count": 207,
   "id": "c15531b5-5f61-4a3a-942a-2e8318498c42",
   "metadata": {},
   "outputs": [
    {
     "data": {
      "image/png": "[encoded data removed]",
      "text/plain": [
       "<Figure size 640x480 with 1 Axes>"
      ]
     },
     "metadata": {},
     "output_type": "display_data"
    }
   ],
   "source": [
    "mps.plot(kind='bar')\n",
    "plt.show()"
   ]
  },
  {
   "cell_type": "code",
   "execution_count": null,
   "id": "26c30adb-72d9-405a-9d21-5ec8ca63ad7e",
   "metadata": {},
   "outputs": [],
   "source": []
  }
 ],
 "metadata": {
  "kernelspec": {
   "display_name": "Python [conda env:base] *",
   "language": "python",
   "name": "conda-base-py"
  },
  "language_info": {
   "codemirror_mode": {
    "name": "ipython",
    "version": 3
   },
   "file_extension": ".py",
   "mimetype": "text/x-python",
   "name": "python",
   "nbconvert_exporter": "python",
   "pygments_lexer": "ipython3",
   "version": "3.12.7"
  }
 },
 "nbformat": 4,
 "nbformat_minor": 5
}
